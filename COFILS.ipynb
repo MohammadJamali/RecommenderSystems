{
  "nbformat": 4,
  "nbformat_minor": 0,
  "metadata": {
    "colab": {
      "name": "COFILS.ipynb",
      "version": "0.3.2",
      "provenance": [],
      "collapsed_sections": [],
      "toc_visible": true,
      "include_colab_link": true
    },
    "kernelspec": {
      "name": "python3",
      "display_name": "Python 3"
    },
    "accelerator": "GPU"
  },
  "cells": [
    {
      "cell_type": "markdown",
      "metadata": {
        "id": "view-in-github",
        "colab_type": "text"
      },
      "source": [
        "<a href=\"https://colab.research.google.com/github/MohammadJamali/RecommenderSystems/blob/master/COFILS.ipynb\" target=\"_parent\"><img src=\"https://colab.research.google.com/assets/colab-badge.svg\" alt=\"Open In Colab\"/></a>"
      ]
    },
    {
      "cell_type": "markdown",
      "metadata": {
        "id": "7uIGQaR9FEck",
        "colab_type": "text"
      },
      "source": [
        "# Prepare Datasets"
      ]
    },
    {
      "cell_type": "code",
      "metadata": {
        "id": "duzXTOrGFHew",
        "colab_type": "code",
        "colab": {}
      },
      "source": [
        "# Prepare folders and directories\n",
        "\n",
        "!cd /content\n",
        "!rm -R *\n",
        "\n",
        "!mkdir -p datasets"
      ],
      "execution_count": 0,
      "outputs": []
    },
    {
      "cell_type": "code",
      "metadata": {
        "id": "-H_WjQXCFNpR",
        "colab_type": "code",
        "colab": {
          "base_uri": "https://localhost:8080/",
          "height": 701
        },
        "outputId": "804b5fce-22b3-4b44-ed9c-6f65c33d5f9f"
      },
      "source": [
        "# Prepare MovieLens 100K movie ratings dataset\n",
        "!mkdir -p datasets\n",
        "!wget -c -t 0 \"http://files.grouplens.org/datasets/movielens/ml-100k.zip\" -O datasets/ml-100k.zip\n",
        "!unzip datasets/ml-100k.zip -d datasets\n",
        "!rm datasets/ml-100k.zip\n",
        "\n",
        "!mkdir -p \"dataset_splited/ml-100k\"\n",
        "!mkdir -p \"dataset_transformed/ml-100k\"\n",
        "\n",
        "dataset_sep='\\t'\n",
        "dataset_name = 'ml-100k'\n",
        "dataset_address = '/content/datasets/ml-100k/u.data'\n",
        "dataset_columns = ['user', 'movie', 'rate', 'time_stamp']\n",
        "dataset_row_name = 'user'\n",
        "dataset_col_name = 'movie'\n",
        "dataset_val_name = 'rate'"
      ],
      "execution_count": 2,
      "outputs": [
        {
          "output_type": "stream",
          "text": [
            "--2019-06-08 18:48:55--  http://files.grouplens.org/datasets/movielens/ml-100k.zip\n",
            "Resolving files.grouplens.org (files.grouplens.org)... 128.101.65.152\n",
            "Connecting to files.grouplens.org (files.grouplens.org)|128.101.65.152|:80... connected.\n",
            "HTTP request sent, awaiting response... 200 OK\n",
            "Length: 4924029 (4.7M) [application/zip]\n",
            "Saving to: ‘datasets/ml-100k.zip’\n",
            "\n",
            "\rdatasets/ml-100k.zi   0%[                    ]       0  --.-KB/s               \rdatasets/ml-100k.zi 100%[===================>]   4.70M  23.8MB/s    in 0.2s    \n",
            "\n",
            "2019-06-08 18:48:56 (23.8 MB/s) - ‘datasets/ml-100k.zip’ saved [4924029/4924029]\n",
            "\n",
            "Archive:  datasets/ml-100k.zip\n",
            "   creating: datasets/ml-100k/\n",
            "  inflating: datasets/ml-100k/allbut.pl  \n",
            "  inflating: datasets/ml-100k/mku.sh  \n",
            "  inflating: datasets/ml-100k/README  \n",
            "  inflating: datasets/ml-100k/u.data  \n",
            "  inflating: datasets/ml-100k/u.genre  \n",
            "  inflating: datasets/ml-100k/u.info  \n",
            "  inflating: datasets/ml-100k/u.item  \n",
            "  inflating: datasets/ml-100k/u.occupation  \n",
            "  inflating: datasets/ml-100k/u.user  \n",
            "  inflating: datasets/ml-100k/u1.base  \n",
            "  inflating: datasets/ml-100k/u1.test  \n",
            "  inflating: datasets/ml-100k/u2.base  \n",
            "  inflating: datasets/ml-100k/u2.test  \n",
            "  inflating: datasets/ml-100k/u3.base  \n",
            "  inflating: datasets/ml-100k/u3.test  \n",
            "  inflating: datasets/ml-100k/u4.base  \n",
            "  inflating: datasets/ml-100k/u4.test  \n",
            "  inflating: datasets/ml-100k/u5.base  \n",
            "  inflating: datasets/ml-100k/u5.test  \n",
            "  inflating: datasets/ml-100k/ua.base  \n",
            "  inflating: datasets/ml-100k/ua.test  \n",
            "  inflating: datasets/ml-100k/ub.base  \n",
            "  inflating: datasets/ml-100k/ub.test  \n"
          ],
          "name": "stdout"
        }
      ]
    },
    {
      "cell_type": "code",
      "metadata": {
        "id": "wXQpAU3cFjn9",
        "colab_type": "code",
        "outputId": "97504e5b-8e6b-4462-892c-5f593b31a829",
        "colab": {
          "base_uri": "https://localhost:8080/",
          "height": 55
        }
      },
      "source": [
        "import os\n",
        "import pandas as pd\n",
        "\n",
        "from sklearn.preprocessing import LabelEncoder\n",
        "\n",
        "dataset = pd.read_csv(dataset_address, header=None, sep=dataset_sep, names = dataset_columns, engine='python')\n",
        "\n",
        "label_encoder_row = LabelEncoder()\n",
        "dataset[dataset_row_name] = label_encoder_row.fit_transform(dataset[dataset_row_name])\n",
        "\n",
        "label_encoder_col = LabelEncoder()\n",
        "dataset[dataset_col_name] = label_encoder_col.fit_transform(dataset[dataset_col_name])\n",
        "\n",
        "dataset_row_count = int(dataset[[dataset_row_name]].max()) + 1\n",
        "dataset_col_count = int(dataset[[dataset_col_name]].max()) + 1\n",
        "\n",
        "print(' - DataSet has been fully loaded with this information:')\n",
        "print('\\tDataSet contains %d %s and %d %s' %\n",
        "      (dataset_row_count, dataset_row_name, dataset_col_count, dataset_col_name))\n"
      ],
      "execution_count": 3,
      "outputs": [
        {
          "output_type": "stream",
          "text": [
            " - DataSet has been fully loaded with this information:\n",
            "\tDataSet contains 943 user and 1682 movie\n"
          ],
          "name": "stdout"
        }
      ]
    },
    {
      "cell_type": "markdown",
      "metadata": {
        "id": "sjKnn3u8lEix",
        "colab_type": "text"
      },
      "source": [
        "# Autoencoder-COFILS\n",
        "\n",
        "In this section, we present our A-COFILS architecture based on COFILS methodology. Our proposed method is divided in five steps: matrices creation, data normalization, Autoencoder architecture selection, generating supervised data set and applying a regressor."
      ]
    },
    {
      "cell_type": "markdown",
      "metadata": {
        "id": "WlUQluIxlV4p",
        "colab_type": "text"
      },
      "source": [
        "## (i) Matrices Creation\n",
        "\n",
        "The first step is the creation of the user-item matrix based on the ratings of the training set. This matrix and its transpose are used, respectively, as user and item matrices where the latent variables will be extracted."
      ]
    },
    {
      "cell_type": "markdown",
      "metadata": {
        "id": "gtaMpD6IFzm2",
        "colab_type": "text"
      },
      "source": [
        "\n",
        "\n",
        "### ***Please check out 'Prepare Datasets' Section***\n",
        "\n",
        "\n"
      ]
    },
    {
      "cell_type": "code",
      "metadata": {
        "id": "VM3BAve5cPc_",
        "colab_type": "code",
        "colab": {}
      },
      "source": [
        "from sklearn.model_selection import train_test_split\n",
        "\n",
        "train, test = train_test_split(dataset, test_size=0.1)"
      ],
      "execution_count": 0,
      "outputs": []
    },
    {
      "cell_type": "markdown",
      "metadata": {
        "id": "2TaEJXDuHFzX",
        "colab_type": "text"
      },
      "source": [
        "## (ii) Data Normalization\n",
        "\n",
        "The next step is the choose of the ratings matrices normalizations. Each of the constructed matrices, user and item, can be normalized with different normalization types, such as normalization by the average user or item rating. Additionally, instead of using the actual user rating as the target for the regression task, it can also be normalized with normalization by the average user or item rating (Braida et al., 2015). Note that a major difference between COFILS and this work is the untying of the matrix normalization from the target normalization. This flexibilize the methodology and was able to improve the results even using SVD as latent variable extraction technique for some data sets. The **missing ratings from the ratings matrix are filled with zero**. Regarding the normalization chosen, previous experiments indicate that the system performed better with no normalization in ratings matrix and normalization by the item mean in ratings that is used as the regression target.\n",
        "\n",
        "1.   Fill missing ratings with zero\n",
        "2.   No matrix normalization, Target normalization by item mean\n",
        "\n"
      ]
    },
    {
      "cell_type": "code",
      "metadata": {
        "id": "atSyJP02IlH1",
        "colab_type": "code",
        "outputId": "75a37c5a-128f-419c-8c33-e65e4a51e0e8",
        "colab": {
          "base_uri": "https://localhost:8080/",
          "height": 1293
        }
      },
      "source": [
        "import warnings\n",
        "import numpy as np\n",
        "\n",
        "from IPython.core import display as ICD\n",
        "from sklearn.preprocessing import MinMaxScaler\n",
        "from pandas.core.common import SettingWithCopyWarning\n",
        "\n",
        "warnings.simplefilter(action='ignore', category=FutureWarning)\n",
        "warnings.simplefilter(action='ignore', category=SettingWithCopyWarning)\n",
        "\n",
        "def group_mean_normalize(matrix, mean, group_by):\n",
        "  mean_normalized_matrix = pd.DataFrame()\n",
        "  for group_id, group in matrix.groupby(by=[group_by]):\n",
        "    mean_normalized = group.copy()\n",
        "    mean_normalized[dataset_val_name] = mean_normalized[dataset_val_name] - mean.iloc[group_id][0]\n",
        "    mean_normalized_matrix = mean_normalized_matrix.append(group.reset_index())\n",
        "\n",
        "    print('\\rGroup %d has been fully normilized (%0.2f%%)' %\n",
        "          (group_id, (group_id / dataset_col_count) * 100), end='')\n",
        "  print('\\rGroup %d has been fully normilized (%0.2f%%)' % (group_id, 100))\n",
        "  return mean_normalized_matrix\n",
        "\n",
        "\n",
        "print('Normalizing dataset by its column\\'s mean:')\n",
        "\n",
        "# normalize each column of matrix by the same column's mean\n",
        "# we compute columns mean from original dataset so we can use same\n",
        "# mean for test and train if necessary\n",
        "global_mean = dataset.groupby(by=[dataset_col_name])[[dataset_val_name]].mean()\n",
        "\n",
        "mean_normalized_train = group_mean_normalize(train, global_mean, dataset_col_name)\n",
        "mean_normalized_test = group_mean_normalize(test, global_mean, dataset_col_name)\n",
        "\n",
        "print('\\n\\tMean Normalized Train\\n')\n",
        "print('\\nHead:')\n",
        "ICD.display(mean_normalized_train.head())\n",
        "print('\\nSummery of \\'%s\\':' % dataset_val_name)\n",
        "ICD.display(mean_normalized_train[[dataset_val_name]].describe())\n",
        "\n",
        "\n",
        "print('Normalizing dataset by its column\\'s max:')\n",
        "\n",
        "# # normalize each column of matrix by the same column's max\n",
        "# scaled_normalized_dataset = pd.DataFrame()\n",
        "# for group_id, group in train.groupby(by=[dataset_col_name]):\n",
        "#   max = group[dataset_val_name].max().max()\n",
        "#   scaled_normalized = group.copy()\n",
        "#   scaled_normalized[dataset_val_name] = scaled_normalized[dataset_val_name].apply(lambda x: x / max)\n",
        "#   scaled_normalized_dataset = scaled_normalized_dataset.append(scaled_normalized.reset_index())\n",
        "\n",
        "#   print('\\rGroup %d has been fully normilized (%0.2f%%)' %\n",
        "#         (group_id, (group_id / dataset_col_count) * 100), end='')\n",
        "# print('\\rGroup %d has been fully normilized (%0.2f%%)' % (group_id, 100))\n",
        "\n",
        "# normalize whole matrix considering the global max which is 5 in mk-100k\n",
        "scaler = MinMaxScaler(feature_range=(0, 1))\n",
        "scaler.fit(dataset)\n",
        "scaled_normalized_train = pd.DataFrame(scaler.transform(train), columns=dataset_columns)\n",
        "scaled_normalized_test = pd.DataFrame(scaler.transform(test), columns=dataset_columns)\n",
        "\n",
        "print('\\nScaled Normalized Train\\n')\n",
        "print('\\nHead')\n",
        "ICD.display(scaled_normalized_dataset.head())\n",
        "print('\\nSummery of \\'%s\\':' % dataset_val_name)\n",
        "ICD.display(scaled_normalized_dataset[[dataset_val_name]].describe())"
      ],
      "execution_count": 33,
      "outputs": [
        {
          "output_type": "stream",
          "text": [
            "Normalizing dataset by its column's mean:\n",
            "Group 1681 has been fully normilized (100.00%)\n",
            "Group 1680 has been fully normilized (100.00%)\n",
            "\n",
            "\tMean Normalized Train\n",
            "\n",
            "\n",
            "Head:\n"
          ],
          "name": "stdout"
        },
        {
          "output_type": "display_data",
          "data": {
            "text/html": [
              "<div>\n",
              "<style scoped>\n",
              "    .dataframe tbody tr th:only-of-type {\n",
              "        vertical-align: middle;\n",
              "    }\n",
              "\n",
              "    .dataframe tbody tr th {\n",
              "        vertical-align: top;\n",
              "    }\n",
              "\n",
              "    .dataframe thead th {\n",
              "        text-align: right;\n",
              "    }\n",
              "</style>\n",
              "<table border=\"1\" class=\"dataframe\">\n",
              "  <thead>\n",
              "    <tr style=\"text-align: right;\">\n",
              "      <th></th>\n",
              "      <th>index</th>\n",
              "      <th>user</th>\n",
              "      <th>movie</th>\n",
              "      <th>rate</th>\n",
              "      <th>time_stamp</th>\n",
              "    </tr>\n",
              "  </thead>\n",
              "  <tbody>\n",
              "    <tr>\n",
              "      <th>0</th>\n",
              "      <td>32301</td>\n",
              "      <td>568</td>\n",
              "      <td>0</td>\n",
              "      <td>4</td>\n",
              "      <td>879793399</td>\n",
              "    </tr>\n",
              "    <tr>\n",
              "      <th>1</th>\n",
              "      <td>52395</td>\n",
              "      <td>613</td>\n",
              "      <td>0</td>\n",
              "      <td>5</td>\n",
              "      <td>879464093</td>\n",
              "    </tr>\n",
              "    <tr>\n",
              "      <th>2</th>\n",
              "      <td>57249</td>\n",
              "      <td>806</td>\n",
              "      <td>0</td>\n",
              "      <td>4</td>\n",
              "      <td>892528231</td>\n",
              "    </tr>\n",
              "    <tr>\n",
              "      <th>3</th>\n",
              "      <td>64811</td>\n",
              "      <td>387</td>\n",
              "      <td>0</td>\n",
              "      <td>5</td>\n",
              "      <td>886436813</td>\n",
              "    </tr>\n",
              "    <tr>\n",
              "      <th>4</th>\n",
              "      <td>69620</td>\n",
              "      <td>912</td>\n",
              "      <td>0</td>\n",
              "      <td>2</td>\n",
              "      <td>880758579</td>\n",
              "    </tr>\n",
              "  </tbody>\n",
              "</table>\n",
              "</div>"
            ],
            "text/plain": [
              "   index  user  movie  rate  time_stamp\n",
              "0  32301   568      0     4   879793399\n",
              "1  52395   613      0     5   879464093\n",
              "2  57249   806      0     4   892528231\n",
              "3  64811   387      0     5   886436813\n",
              "4  69620   912      0     2   880758579"
            ]
          },
          "metadata": {
            "tags": []
          }
        },
        {
          "output_type": "stream",
          "text": [
            "\n",
            "Summery of 'rate':\n"
          ],
          "name": "stdout"
        },
        {
          "output_type": "display_data",
          "data": {
            "text/html": [
              "<div>\n",
              "<style scoped>\n",
              "    .dataframe tbody tr th:only-of-type {\n",
              "        vertical-align: middle;\n",
              "    }\n",
              "\n",
              "    .dataframe tbody tr th {\n",
              "        vertical-align: top;\n",
              "    }\n",
              "\n",
              "    .dataframe thead th {\n",
              "        text-align: right;\n",
              "    }\n",
              "</style>\n",
              "<table border=\"1\" class=\"dataframe\">\n",
              "  <thead>\n",
              "    <tr style=\"text-align: right;\">\n",
              "      <th></th>\n",
              "      <th>rate</th>\n",
              "    </tr>\n",
              "  </thead>\n",
              "  <tbody>\n",
              "    <tr>\n",
              "      <th>count</th>\n",
              "      <td>90000.000000</td>\n",
              "    </tr>\n",
              "    <tr>\n",
              "      <th>mean</th>\n",
              "      <td>3.529744</td>\n",
              "    </tr>\n",
              "    <tr>\n",
              "      <th>std</th>\n",
              "      <td>1.126112</td>\n",
              "    </tr>\n",
              "    <tr>\n",
              "      <th>min</th>\n",
              "      <td>1.000000</td>\n",
              "    </tr>\n",
              "    <tr>\n",
              "      <th>25%</th>\n",
              "      <td>3.000000</td>\n",
              "    </tr>\n",
              "    <tr>\n",
              "      <th>50%</th>\n",
              "      <td>4.000000</td>\n",
              "    </tr>\n",
              "    <tr>\n",
              "      <th>75%</th>\n",
              "      <td>4.000000</td>\n",
              "    </tr>\n",
              "    <tr>\n",
              "      <th>max</th>\n",
              "      <td>5.000000</td>\n",
              "    </tr>\n",
              "  </tbody>\n",
              "</table>\n",
              "</div>"
            ],
            "text/plain": [
              "               rate\n",
              "count  90000.000000\n",
              "mean       3.529744\n",
              "std        1.126112\n",
              "min        1.000000\n",
              "25%        3.000000\n",
              "50%        4.000000\n",
              "75%        4.000000\n",
              "max        5.000000"
            ]
          },
          "metadata": {
            "tags": []
          }
        },
        {
          "output_type": "stream",
          "text": [
            "Normalizing dataset by its column's max:\n",
            "\n",
            "Scaled Normalized Train\n",
            "\n",
            "\n",
            "Head\n"
          ],
          "name": "stdout"
        },
        {
          "output_type": "display_data",
          "data": {
            "text/html": [
              "<div>\n",
              "<style scoped>\n",
              "    .dataframe tbody tr th:only-of-type {\n",
              "        vertical-align: middle;\n",
              "    }\n",
              "\n",
              "    .dataframe tbody tr th {\n",
              "        vertical-align: top;\n",
              "    }\n",
              "\n",
              "    .dataframe thead th {\n",
              "        text-align: right;\n",
              "    }\n",
              "</style>\n",
              "<table border=\"1\" class=\"dataframe\">\n",
              "  <thead>\n",
              "    <tr style=\"text-align: right;\">\n",
              "      <th></th>\n",
              "      <th>user</th>\n",
              "      <th>movie</th>\n",
              "      <th>rate</th>\n",
              "      <th>time_stamp</th>\n",
              "    </tr>\n",
              "  </thead>\n",
              "  <tbody>\n",
              "    <tr>\n",
              "      <th>0</th>\n",
              "      <td>0.226115</td>\n",
              "      <td>0.159429</td>\n",
              "      <td>0.50</td>\n",
              "      <td>0.906049</td>\n",
              "    </tr>\n",
              "    <tr>\n",
              "      <th>1</th>\n",
              "      <td>0.794055</td>\n",
              "      <td>0.315289</td>\n",
              "      <td>1.00</td>\n",
              "      <td>0.222092</td>\n",
              "    </tr>\n",
              "    <tr>\n",
              "      <th>2</th>\n",
              "      <td>0.812102</td>\n",
              "      <td>0.256395</td>\n",
              "      <td>0.50</td>\n",
              "      <td>0.893471</td>\n",
              "    </tr>\n",
              "    <tr>\n",
              "      <th>3</th>\n",
              "      <td>0.170913</td>\n",
              "      <td>0.174301</td>\n",
              "      <td>0.50</td>\n",
              "      <td>0.156786</td>\n",
              "    </tr>\n",
              "    <tr>\n",
              "      <th>4</th>\n",
              "      <td>0.669851</td>\n",
              "      <td>0.375967</td>\n",
              "      <td>0.75</td>\n",
              "      <td>0.255054</td>\n",
              "    </tr>\n",
              "  </tbody>\n",
              "</table>\n",
              "</div>"
            ],
            "text/plain": [
              "       user     movie  rate  time_stamp\n",
              "0  0.226115  0.159429  0.50    0.906049\n",
              "1  0.794055  0.315289  1.00    0.222092\n",
              "2  0.812102  0.256395  0.50    0.893471\n",
              "3  0.170913  0.174301  0.50    0.156786\n",
              "4  0.669851  0.375967  0.75    0.255054"
            ]
          },
          "metadata": {
            "tags": []
          }
        },
        {
          "output_type": "stream",
          "text": [
            "\n",
            "Summery of 'rate':\n"
          ],
          "name": "stdout"
        },
        {
          "output_type": "display_data",
          "data": {
            "text/html": [
              "<div>\n",
              "<style scoped>\n",
              "    .dataframe tbody tr th:only-of-type {\n",
              "        vertical-align: middle;\n",
              "    }\n",
              "\n",
              "    .dataframe tbody tr th {\n",
              "        vertical-align: top;\n",
              "    }\n",
              "\n",
              "    .dataframe thead th {\n",
              "        text-align: right;\n",
              "    }\n",
              "</style>\n",
              "<table border=\"1\" class=\"dataframe\">\n",
              "  <thead>\n",
              "    <tr style=\"text-align: right;\">\n",
              "      <th></th>\n",
              "      <th>rate</th>\n",
              "    </tr>\n",
              "  </thead>\n",
              "  <tbody>\n",
              "    <tr>\n",
              "      <th>count</th>\n",
              "      <td>90000.000000</td>\n",
              "    </tr>\n",
              "    <tr>\n",
              "      <th>mean</th>\n",
              "      <td>0.632436</td>\n",
              "    </tr>\n",
              "    <tr>\n",
              "      <th>std</th>\n",
              "      <td>0.281528</td>\n",
              "    </tr>\n",
              "    <tr>\n",
              "      <th>min</th>\n",
              "      <td>0.000000</td>\n",
              "    </tr>\n",
              "    <tr>\n",
              "      <th>25%</th>\n",
              "      <td>0.500000</td>\n",
              "    </tr>\n",
              "    <tr>\n",
              "      <th>50%</th>\n",
              "      <td>0.750000</td>\n",
              "    </tr>\n",
              "    <tr>\n",
              "      <th>75%</th>\n",
              "      <td>0.750000</td>\n",
              "    </tr>\n",
              "    <tr>\n",
              "      <th>max</th>\n",
              "      <td>1.000000</td>\n",
              "    </tr>\n",
              "  </tbody>\n",
              "</table>\n",
              "</div>"
            ],
            "text/plain": [
              "               rate\n",
              "count  90000.000000\n",
              "mean       0.632436\n",
              "std        0.281528\n",
              "min        0.000000\n",
              "25%        0.500000\n",
              "50%        0.750000\n",
              "75%        0.750000\n",
              "max        1.000000"
            ]
          },
          "metadata": {
            "tags": []
          }
        }
      ]
    },
    {
      "cell_type": "code",
      "metadata": {
        "id": "xM712Qytz0ia",
        "colab_type": "code",
        "outputId": "c7fd8e43-70c7-45c1-b0f8-86e0b1601a1d",
        "colab": {
          "base_uri": "https://localhost:8080/",
          "height": 93
        }
      },
      "source": [
        "from scipy.sparse import csr_matrix\n",
        "\n",
        "def sparce_to_dense(matrix, row_name, col_name, val_name, row_count, col_count):\n",
        "  matrix_val = np.array(matrix[[val_name]]).reshape(-1)\n",
        "  matrix_row = np.array(matrix[[row_name]]).reshape(-1)\n",
        "  matrix_col = np.array(matrix[[col_name]]).reshape(-1)\n",
        "  matrix_dense = csr_matrix((matrix_val, (matrix_row, matrix_col)), \n",
        "                            shape=(row_count, col_count))\n",
        "  matrix_dense = matrix_dense.todense()\n",
        "  return matrix_dense\n",
        "\n",
        "scaled_normalized_train_dense = sparce_to_dense(scaled_normalized_train, dataset_row_name, dataset_col_name, dataset_val_name, dataset_row_count, dataset_col_count)\n",
        "scaled_normalized_test_dense = sparce_to_dense(scaled_normalized_test, dataset_row_name, dataset_col_name, dataset_val_name, dataset_row_count, dataset_col_count)\n",
        "\n",
        "row_col_scaled_normalized_matrix = np.array(scaled_normalized_train_dense)\n",
        "col_row_scaled_normalized_matrix = np.array(scaled_normalized_train_dense).transpose()\n",
        "\n",
        "print('Train set with shape: %s' % str(scaled_normalized_train.shape))\n",
        "print('Test set with shape: %s' % str(scaled_normalized_test.shape))\n",
        "\n",
        "print('Train dense matrix with shape: %s' % str(scaled_normalized_train_dense.shape))\n",
        "print('Test dense matrix with shape: %s' % str(scaled_normalized_test_dense.shape))\n",
        "\n",
        "del scaled_normalized_train_dense"
      ],
      "execution_count": 39,
      "outputs": [
        {
          "output_type": "stream",
          "text": [
            "Train set with shape: (90000, 4)\n",
            "Test set with shape: (10000, 4)\n",
            "Train dense matrix with shape: (943, 1682)\n",
            "Test dense matrix with shape: (943, 1682)\n"
          ],
          "name": "stdout"
        }
      ]
    },
    {
      "cell_type": "markdown",
      "metadata": {
        "id": "0-edvuoYJNkM",
        "colab_type": "text"
      },
      "source": [
        "## (iii) Autoencoder architecture selection\n",
        "\n",
        "After the normalization process, it is needed to adjust the users and items matrix range to the used Autoencoder activation function range. Later, a Denoising Autoencoder is trained for users features using the normalized user matrix and another is trained for the item features used the normalized item matrix.\n",
        "\n",
        "The figure 8 shows the five architectures that yield the best results. Based on that, the chosen ar- chitecture are two stacked layers with 900 neurons in the first layer and 50 in the second.\n",
        "\n",
        "Both is trained using regular backpropagation algorithm using bellow specification for all stacked layers:\n",
        "\n",
        "1.   learning rate of γ=0.01\n",
        "2.   Corruption level v=50%\n",
        "3.   Sigmoid activation function\n",
        "4.   L2 regularization λ=0.001\n",
        "5.   Squared error loss function\n",
        "\n"
      ]
    },
    {
      "cell_type": "code",
      "metadata": {
        "id": "Htux-QtMxuMB",
        "colab_type": "code",
        "outputId": "e672ce42-d1eb-4a77-9df1-75fa3ceb99da",
        "colab": {
          "base_uri": "https://localhost:8080/",
          "height": 36
        }
      },
      "source": [
        "from keras import regularizers, losses, activations\n",
        "\n",
        "learning_rate = 0.01\n",
        "corruption_level = 0.50\n",
        "activation_function = activations.sigmoid\n",
        "regularization = regularizers.l2(0.001)\n",
        "loss_function = losses.mean_squared_error"
      ],
      "execution_count": 40,
      "outputs": [
        {
          "output_type": "stream",
          "text": [
            "Using TensorFlow backend.\n"
          ],
          "name": "stderr"
        }
      ]
    },
    {
      "cell_type": "code",
      "metadata": {
        "id": "Cr_xQsHgxh4G",
        "colab_type": "code",
        "outputId": "54124636-c568-435d-f323-55769800da61",
        "colab": {
          "base_uri": "https://localhost:8080/",
          "height": 151
        }
      },
      "source": [
        "from keras.layers import Dense, Dropout\n",
        "from keras import Input, Model\n",
        "from keras import optimizers, backend\n",
        "from sklearn.metrics import mean_absolute_error, mean_squared_error, mean_squared_log_error\n",
        "\n",
        "backend.clear_session()\n",
        "\n",
        "def create_denoising_autoencoder(input_len, \n",
        "                                 hidden_dim,\n",
        "                                 corruption_level,\n",
        "                                 activation_function,\n",
        "                                 regularization,\n",
        "                                 learning_rate,\n",
        "                                 loss_function,\n",
        "                                 name = None):\n",
        "  name = name + \"_\" if name is not None else ''\n",
        "  layer_input = Input(shape=(input_len,),\n",
        "                      name=name + 'input')\n",
        "  encoder_dropout = Dropout(corruption_level,\n",
        "                            name=name+'dropout')\n",
        "  encoder = Dense(units=hidden_dim,\n",
        "                  activation=activation_function,\n",
        "                  kernel_regularizer=regularization,\n",
        "                  name=name + 'encoder')\n",
        "  \n",
        "  decoder = Dense(units=input_len,\n",
        "                  activation=activation_function,\n",
        "                  kernel_regularizer=regularization,\n",
        "                  name=name + 'decoder')\n",
        "  \n",
        "  DAE = decoder(encoder(encoder_dropout(layer_input)))\n",
        "  DAE = Model(layer_input, DAE)\n",
        "  DAE.compile(optimizer=optimizers.Adam(lr=learning_rate), loss=loss_function)\n",
        "  \n",
        "  encoder = encoder(encoder_dropout(layer_input))\n",
        "  encoder = Model(layer_input, encoder)\n",
        "  \n",
        "  return encoder, DAE\n",
        "\n",
        "row_first_encoder, row_first_DAE = \\\n",
        "  create_denoising_autoencoder(dataset_col_count,\n",
        "                               900,\n",
        "                               corruption_level,\n",
        "                               activation_function,\n",
        "                               regularization,\n",
        "                               learning_rate,\n",
        "                               loss_function,\n",
        "                               'row_first')\n",
        "\n",
        "col_first_encoder, col_first_DAE = \\\n",
        "  create_denoising_autoencoder(dataset_row_count,\n",
        "                               900,\n",
        "                               corruption_level,\n",
        "                               activation_function,\n",
        "                               regularization,\n",
        "                               learning_rate,\n",
        "                               loss_function,\n",
        "                               'col_first')\n",
        "\n",
        "row_second_encoder, row_second_DAE = \\\n",
        "  create_denoising_autoencoder(900,\n",
        "                               50,\n",
        "                               corruption_level,\n",
        "                               activation_function,\n",
        "                               regularization,\n",
        "                               learning_rate,\n",
        "                               loss_function,\n",
        "                               'row_second')\n",
        "\n",
        "col_second_encoder, col_second_DAE = \\\n",
        "  create_denoising_autoencoder(900,\n",
        "                               50,\n",
        "                               corruption_level,\n",
        "                               activation_function,\n",
        "                               regularization,\n",
        "                               learning_rate,\n",
        "                               loss_function,\n",
        "                               'col_second')\n"
      ],
      "execution_count": 41,
      "outputs": [
        {
          "output_type": "stream",
          "text": [
            "WARNING:tensorflow:From /usr/local/lib/python3.6/dist-packages/tensorflow/python/ops/control_flow_ops.py:423: colocate_with (from tensorflow.python.framework.ops) is deprecated and will be removed in a future version.\n",
            "Instructions for updating:\n",
            "Colocations handled automatically by placer.\n",
            "WARNING:tensorflow:From /usr/local/lib/python3.6/dist-packages/keras/backend/tensorflow_backend.py:3445: calling dropout (from tensorflow.python.ops.nn_ops) with keep_prob is deprecated and will be removed in a future version.\n",
            "Instructions for updating:\n",
            "Please use `rate` instead of `keep_prob`. Rate should be set to `rate = 1 - keep_prob`.\n"
          ],
          "name": "stdout"
        }
      ]
    },
    {
      "cell_type": "code",
      "metadata": {
        "id": "KZsyFD2zLA5U",
        "colab_type": "code",
        "outputId": "82cccc80-882a-46e4-ce92-bdccedd26476",
        "colab": {
          "base_uri": "https://localhost:8080/",
          "height": 1500
        }
      },
      "source": [
        "import datetime\n",
        "import matplotlib.pyplot as plt\n",
        "\n",
        "loss_function_name = loss_function.__name__ if hasattr(loss_function, '__name__') else 'loss'\n",
        "\n",
        "print('- Fitting denoising auto-encoder for rows at ' +\n",
        "      str(datetime.datetime.now().strftime('%Y-%m-%d %H:%M:%S')))\n",
        "\n",
        "row_first_DAE_history = row_first_DAE.fit(row_col_scaled_normalized_matrix,\n",
        "                                          row_col_scaled_normalized_matrix,\n",
        "                                          verbose=0,\n",
        "                                          epochs=300,\n",
        "                                          shuffle=True)\n",
        "\n",
        "loss = row_first_DAE_history.history['loss']\n",
        "print('\\tFirst DAE layer trained with %s = %.4f' % (loss_function_name, loss[-1]))\n",
        "pd.Series(row_first_DAE_history.history['loss']) \\\n",
        "  .plot(logy=True, legend=True, label='Row First Denoising AutoEncoder')\n",
        "plt.xlabel(\"Epoch\")\n",
        "plt.ylabel(\"Train Error\")\n",
        "print('\\n\\tRow first denoising auto-encoder\\n')\n",
        "plt.show()\n",
        "\n",
        "row_first_DAE_output = row_first_encoder.predict(row_col_scaled_normalized_matrix)\n",
        "\n",
        "row_second_DAE_history = row_second_DAE.fit(row_first_DAE_output,\n",
        "                                            row_first_DAE_output,\n",
        "                                            verbose=0,\n",
        "                                            epochs=100,\n",
        "                                            shuffle=True)\n",
        "\n",
        "loss = row_second_DAE_history.history['loss']\n",
        "print('\\tRow second DAE trained with %s = %.4f' % (loss_function_name, loss[-1]))\n",
        "pd.Series(loss) \\\n",
        "  .plot(logy=True, legend=True, label='Row Second Denoising AutoEncoder')\n",
        "plt.xlabel(\"Epoch\")\n",
        "plt.ylabel(\"Train Error\")\n",
        "print('\\n\\tRow Second Denoising AutoEncoder\\n')\n",
        "plt.show()\n",
        "\n",
        "print('- Fitting denoising auto-encoder for cols at ' +\n",
        "      str(datetime.datetime.now().strftime('%Y-%m-%d %H:%M:%S')))\n",
        "\n",
        "col_first_DAE_history = col_first_DAE.fit(col_row_scaled_normalized_matrix,\n",
        "                                          col_row_scaled_normalized_matrix,\n",
        "                                          verbose=0,\n",
        "                                          epochs=50,\n",
        "                                          shuffle=True)\n",
        "\n",
        "loss = col_first_DAE_history.history['loss']\n",
        "print('\\tCol first DAE trained with %s = %.4f' % (loss_function_name, loss[-1]))\n",
        "pd.Series(loss) \\\n",
        "  .plot(logy=True, \n",
        "        legend=True, \n",
        "        label='Col First Denoising AutoEncoder')\n",
        "plt.xlabel(\"Epoch\")\n",
        "plt.ylabel(\"Train Error\")\n",
        "print('\\n\\tCol First Denoising AutoEncoder\\n')\n",
        "plt.show()\n",
        "\n",
        "col_first_DAE_output = col_first_encoder.predict(col_row_scaled_normalized_matrix)\n",
        "\n",
        "col_second_DAE_history = col_second_DAE.fit(col_first_DAE_output,\n",
        "                                            col_first_DAE_output,\n",
        "                                            verbose=0,\n",
        "                                            epochs=30,\n",
        "                                            shuffle=True)\n",
        "\n",
        "loss = col_second_DAE_history.history['loss']\n",
        "print('\\tCol second DAE trained with %s = %.4f' % (loss_function_name, loss[-1]))\n",
        "pd.Series(loss) \\\n",
        "  .plot(logy=True, \n",
        "        legend=True, \n",
        "        label='Col Second Denoising AutoEncoder')\n",
        "plt.xlabel(\"Epoch\")\n",
        "plt.ylabel(\"Train Error\")\n",
        "print('\\n\\tCol Second Denoising AutoEncoder\\n')\n",
        "plt.show()\n"
      ],
      "execution_count": 42,
      "outputs": [
        {
          "output_type": "stream",
          "text": [
            "- Fitting denoising auto-encoder for rows at 2019-06-08 19:34:51\n",
            "WARNING:tensorflow:From /usr/local/lib/python3.6/dist-packages/tensorflow/python/ops/math_ops.py:3066: to_int32 (from tensorflow.python.ops.math_ops) is deprecated and will be removed in a future version.\n",
            "Instructions for updating:\n",
            "Use tf.cast instead.\n",
            "\tFirst DAE layer trained with mean_squared_error = 2036.0149\n",
            "\n",
            "\tRow first denoising auto-encoder\n",
            "\n"
          ],
          "name": "stdout"
        },
        {
          "output_type": "display_data",
          "data": {
            "image/png": "[encoded data removed]",
            "text/plain": [
              "<Figure size 432x288 with 1 Axes>"
            ]
          },
          "metadata": {
            "tags": []
          }
        },
        {
          "output_type": "stream",
          "text": [
            "\tRow second DAE trained with mean_squared_error = 0.0000\n",
            "\n",
            "\tRow Second Denoising AutoEncoder\n",
            "\n"
          ],
          "name": "stdout"
        },
        {
          "output_type": "display_data",
          "data": {
            "image/png": "[encoded data removed]",
            "text/plain": [
              "<Figure size 432x288 with 1 Axes>"
            ]
          },
          "metadata": {
            "tags": []
          }
        },
        {
          "output_type": "stream",
          "text": [
            "- Fitting denoising auto-encoder for cols at 2019-06-08 19:35:47\n",
            "\tCol first DAE trained with mean_squared_error = 2036.0149\n",
            "\n",
            "\tCol First Denoising AutoEncoder\n",
            "\n"
          ],
          "name": "stdout"
        },
        {
          "output_type": "display_data",
          "data": {
            "image/png": "[encoded data removed]",
            "text/plain": [
              "<Figure size 432x288 with 1 Axes>"
            ]
          },
          "metadata": {
            "tags": []
          }
        },
        {
          "output_type": "stream",
          "text": [
            "\tCol second DAE trained with mean_squared_error = 0.0001\n",
            "\n",
            "\tCol Second Denoising AutoEncoder\n",
            "\n"
          ],
          "name": "stdout"
        },
        {
          "output_type": "display_data",
          "data": {
            "image/png": "[encoded data removed]",
            "text/plain": [
              "<Figure size 432x288 with 1 Axes>"
            ]
          },
          "metadata": {
            "tags": []
          }
        }
      ]
    },
    {
      "cell_type": "markdown",
      "metadata": {
        "id": "ZK-mkSD8LP-E",
        "colab_type": "text"
      },
      "source": [
        "## (iv) Generating Supervised Dataset\n",
        "After, the features obtained from both Autoencoders are mapped just like in the regular COFILS methodology process mentioned early. To do that, the respective vector of features from an user u are combined with the feature vector of an item i and the rating r, or the normalized rating, given by user u for item i are used as the target for regression."
      ]
    },
    {
      "cell_type": "code",
      "metadata": {
        "id": "5zn-PDxGLiu0",
        "colab_type": "code",
        "outputId": "b89ea9f2-92ff-4faa-ed74-7165e634268e",
        "colab": {
          "base_uri": "https://localhost:8080/",
          "height": 55
        }
      },
      "source": [
        "print('- Generating supervised dataset from auto encoder hidden layers:')\n",
        "\n",
        "row_profile = row_second_encoder.predict(row_first_encoder.predict(row_col_scaled_normalized_matrix))\n",
        "col_profile = col_second_encoder.predict(col_first_encoder.predict(col_row_scaled_normalized_matrix))\n",
        "\n",
        "supervised_dataset = pd.DataFrame()\n",
        "sample_count = 0\n",
        "for index, sample in mean_normalized_train.iterrows():  \n",
        "  new_sample = row_profile[int(sample[dataset_row_name])]\n",
        "  new_sample = np.append(new_sample, col_profile[int(sample[dataset_col_name])], axis = 0)\n",
        "  new_sample = np.reshape(new_sample, (1, 100))\n",
        "  \n",
        "  supervised_dataset = supervised_dataset.append(pd.DataFrame(new_sample))\n",
        "  \n",
        "  print('\\r%.02f%% complete' % ((sample_count / mean_normalized_train.shape[0]) * 100), end='')\n",
        "  sample_count +=1\n",
        "  \n",
        "del row_profile, col_profile\n"
      ],
      "execution_count": 43,
      "outputs": [
        {
          "output_type": "stream",
          "text": [
            "- Generating supervised dataset from auto encoder hidden layers:\n",
            "100.00% complete"
          ],
          "name": "stdout"
        }
      ]
    },
    {
      "cell_type": "markdown",
      "metadata": {
        "id": "OkO8WYzGLjJX",
        "colab_type": "text"
      },
      "source": [
        "## (v) Applying a Regressor\n",
        "Lastly its possible to use the generated supervised learning data set to train a regressor model that can be used to make predictions. For this step a Random Forest Regressor, with t=500 trees and using the square root of the number of original features, is chosen, based on previous experiments, and its performance in COFILS original work (Braida et al., 2015)."
      ]
    },
    {
      "cell_type": "code",
      "metadata": {
        "id": "7McWwyUtL18H",
        "colab_type": "code",
        "outputId": "4acd1370-82ed-496b-e8a8-c5f13217e818",
        "colab": {
          "base_uri": "https://localhost:8080/",
          "height": 302
        }
      },
      "source": [
        "input_ = Input(shape=(100, ))\n",
        "model = Dense(32, input_shape=(100, ))(input_)\n",
        "model = Dense(16)(model)\n",
        "model = Dense(1)(model)\n",
        "\n",
        "model = Model(input_, model)\n",
        "model.compile(optimizer=optimizers.Adam(lr=0.001), loss=losses.mean_absolute_error)\n",
        "\n",
        "history = model.fit(supervised_dataset,\n",
        "                    np.array(mean_normalized_train[[dataset_val_name]]),\n",
        "                    verbose=0,\n",
        "                    batch_size=1024,\n",
        "                    epochs=300,\n",
        "                    shuffle=True)\n",
        "\n",
        "loss = history.history['loss']\n",
        "print('\\tModel trained with %s = %.4f' % (loss_function_name, loss[-1]))\n",
        "pd.Series(loss).plot(logy=True)\n",
        "plt.xlabel(\"Epoch\")\n",
        "plt.ylabel(\"Train Error\")\n",
        "plt.show()"
      ],
      "execution_count": 45,
      "outputs": [
        {
          "output_type": "stream",
          "text": [
            "\tModel trained with mean_squared_error = 0.8987\n"
          ],
          "name": "stdout"
        },
        {
          "output_type": "display_data",
          "data": {
            "image/png": "[encoded data removed]",
            "text/plain": [
              "<Figure size 432x288 with 1 Axes>"
            ]
          },
          "metadata": {
            "tags": []
          }
        }
      ]
    },
    {
      "cell_type": "code",
      "metadata": {
        "id": "59P1brDhFBsd",
        "colab_type": "code",
        "colab": {}
      },
      "source": [
        "# # Save result in to google drive\n",
        "# from google.colab import drive\n",
        "# drive.mount('/content/gdrive')\n",
        "\n",
        "# with open('/content/gdrive/My Drive/file.txt', 'w') as f:\n",
        "#     f.write('content')\n",
        "  \n",
        "# # Download files for local usage\n",
        "# from google.colab import files\n",
        "# files.download(\"data/dm.ckpt.meta\") "
      ],
      "execution_count": 0,
      "outputs": []
    }
  ]
}