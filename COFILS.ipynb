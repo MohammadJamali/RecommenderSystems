{
  "nbformat": 4,
  "nbformat_minor": 0,
  "metadata": {
    "colab": {
      "name": "COFILS.ipynb",
      "version": "0.3.2",
      "provenance": [],
      "collapsed_sections": [],
      "toc_visible": true,
      "include_colab_link": true
    },
    "kernelspec": {
      "name": "python3",
      "display_name": "Python 3"
    },
    "accelerator": "GPU"
  },
  "cells": [
    {
      "cell_type": "markdown",
      "metadata": {
        "id": "view-in-github",
        "colab_type": "text"
      },
      "source": [
        "<a href=\"https://colab.research.google.com/github/MohammadJamali/RecommenderSystems/blob/master/COFILS.ipynb\" target=\"_parent\"><img src=\"https://colab.research.google.com/assets/colab-badge.svg\" alt=\"Open In Colab\"/></a>"
      ]
    },
    {
      "cell_type": "markdown",
      "metadata": {
        "id": "7uIGQaR9FEck",
        "colab_type": "text"
      },
      "source": [
        "# Prepare Datasets"
      ]
    },
    {
      "cell_type": "code",
      "metadata": {
        "id": "duzXTOrGFHew",
        "colab_type": "code",
        "colab": {}
      },
      "source": [
        "# Prepare folders and directories\n",
        "\n",
        "!cd /content\n",
        "!rm -R *\n",
        "\n",
        "!mkdir -p datasets\n",
        "!mkdir -p dataset_splited\n",
        "!mkdir -p dataset_transformed"
      ],
      "execution_count": 0,
      "outputs": []
    },
    {
      "cell_type": "code",
      "metadata": {
        "id": "-H_WjQXCFNpR",
        "colab_type": "code",
        "colab": {
          "base_uri": "https://localhost:8080/",
          "height": 701
        },
        "outputId": "804b5fce-22b3-4b44-ed9c-6f65c33d5f9f"
      },
      "source": [
        "# Prepare MovieLens 100K movie ratings dataset\n",
        "!mkdir -p datasets\n",
        "!wget -c -t 0 \"http://files.grouplens.org/datasets/movielens/ml-100k.zip\" -O datasets/ml-100k.zip\n",
        "!unzip datasets/ml-100k.zip -d datasets\n",
        "!rm datasets/ml-100k.zip\n",
        "\n",
        "!mkdir -p \"dataset_splited/ml-100k\"\n",
        "!mkdir -p \"dataset_transformed/ml-100k\"\n",
        "\n",
        "dataset_sep='\\t'\n",
        "dataset_name = 'ml-100k'\n",
        "dataset_address = '/content/datasets/ml-100k/u.data'\n",
        "dataset_columns = ['user', 'movie', 'rate', 'time_stamp']\n",
        "dataset_row_name = 'user'\n",
        "dataset_col_name = 'movie'\n",
        "dataset_val_name = 'rate'"
      ],
      "execution_count": 2,
      "outputs": [
        {
          "output_type": "stream",
          "text": [
            "--2019-06-08 18:48:55--  http://files.grouplens.org/datasets/movielens/ml-100k.zip\n",
            "Resolving files.grouplens.org (files.grouplens.org)... 128.101.65.152\n",
            "Connecting to files.grouplens.org (files.grouplens.org)|128.101.65.152|:80... connected.\n",
            "HTTP request sent, awaiting response... 200 OK\n",
            "Length: 4924029 (4.7M) [application/zip]\n",
            "Saving to: ‘datasets/ml-100k.zip’\n",
            "\n",
            "\rdatasets/ml-100k.zi   0%[                    ]       0  --.-KB/s               \rdatasets/ml-100k.zi 100%[===================>]   4.70M  23.8MB/s    in 0.2s    \n",
            "\n",
            "2019-06-08 18:48:56 (23.8 MB/s) - ‘datasets/ml-100k.zip’ saved [4924029/4924029]\n",
            "\n",
            "Archive:  datasets/ml-100k.zip\n",
            "   creating: datasets/ml-100k/\n",
            "  inflating: datasets/ml-100k/allbut.pl  \n",
            "  inflating: datasets/ml-100k/mku.sh  \n",
            "  inflating: datasets/ml-100k/README  \n",
            "  inflating: datasets/ml-100k/u.data  \n",
            "  inflating: datasets/ml-100k/u.genre  \n",
            "  inflating: datasets/ml-100k/u.info  \n",
            "  inflating: datasets/ml-100k/u.item  \n",
            "  inflating: datasets/ml-100k/u.occupation  \n",
            "  inflating: datasets/ml-100k/u.user  \n",
            "  inflating: datasets/ml-100k/u1.base  \n",
            "  inflating: datasets/ml-100k/u1.test  \n",
            "  inflating: datasets/ml-100k/u2.base  \n",
            "  inflating: datasets/ml-100k/u2.test  \n",
            "  inflating: datasets/ml-100k/u3.base  \n",
            "  inflating: datasets/ml-100k/u3.test  \n",
            "  inflating: datasets/ml-100k/u4.base  \n",
            "  inflating: datasets/ml-100k/u4.test  \n",
            "  inflating: datasets/ml-100k/u5.base  \n",
            "  inflating: datasets/ml-100k/u5.test  \n",
            "  inflating: datasets/ml-100k/ua.base  \n",
            "  inflating: datasets/ml-100k/ua.test  \n",
            "  inflating: datasets/ml-100k/ub.base  \n",
            "  inflating: datasets/ml-100k/ub.test  \n"
          ],
          "name": "stdout"
        }
      ]
    },
    {
      "cell_type": "code",
      "metadata": {
        "id": "wXQpAU3cFjn9",
        "colab_type": "code",
        "outputId": "97504e5b-8e6b-4462-892c-5f593b31a829",
        "colab": {
          "base_uri": "https://localhost:8080/",
          "height": 55
        }
      },
      "source": [
        "import os\n",
        "import pandas as pd\n",
        "\n",
        "from sklearn.preprocessing import LabelEncoder\n",
        "\n",
        "dataset = pd.read_csv(dataset_address, header=None, sep=dataset_sep, names = dataset_columns, engine='python')\n",
        "\n",
        "label_encoder_row = LabelEncoder()\n",
        "dataset[dataset_row_name] = label_encoder_row.fit_transform(dataset[dataset_row_name])\n",
        "\n",
        "label_encoder_col = LabelEncoder()\n",
        "dataset[dataset_col_name] = label_encoder_col.fit_transform(dataset[dataset_col_name])\n",
        "\n",
        "dataset_row_count = int(dataset[[dataset_row_name]].max()) + 1\n",
        "dataset_col_count = int(dataset[[dataset_col_name]].max()) + 1\n",
        "\n",
        "print(' - DataSet has been fully loaded with this information:')\n",
        "print('\\tDataSet contains %d %s and %d %s' %\n",
        "      (dataset_row_count, dataset_row_name, dataset_col_count, dataset_col_name))\n"
      ],
      "execution_count": 3,
      "outputs": [
        {
          "output_type": "stream",
          "text": [
            " - DataSet has been fully loaded with this information:\n",
            "\tDataSet contains 943 user and 1682 movie\n"
          ],
          "name": "stdout"
        }
      ]
    },
    {
      "cell_type": "markdown",
      "metadata": {
        "id": "sjKnn3u8lEix",
        "colab_type": "text"
      },
      "source": [
        "# Autoencoder-COFILS\n",
        "\n",
        "In this section, we present our A-COFILS architecture based on COFILS methodology. Our proposed method is divided in five steps: matrices creation, data normalization, Autoencoder architecture selection, generating supervised data set and applying a regressor."
      ]
    },
    {
      "cell_type": "markdown",
      "metadata": {
        "id": "WlUQluIxlV4p",
        "colab_type": "text"
      },
      "source": [
        "## (i) Matrices Creation\n",
        "\n",
        "The first step is the creation of the user-item matrix based on the ratings of the training set. This matrix and its transpose are used, respectively, as user and item matrices where the latent variables will be extracted."
      ]
    },
    {
      "cell_type": "markdown",
      "metadata": {
        "id": "gtaMpD6IFzm2",
        "colab_type": "text"
      },
      "source": [
        "\n",
        "\n",
        "### ***Please check out 'Prepare Datasets' Section***\n",
        "\n",
        "\n"
      ]
    },
    {
      "cell_type": "code",
      "metadata": {
        "id": "VM3BAve5cPc_",
        "colab_type": "code",
        "colab": {}
      },
      "source": [
        "from sklearn.model_selection import train_test_split\n",
        "\n",
        "train, test = train_test_split(dataset, test_size=0.1)"
      ],
      "execution_count": 0,
      "outputs": []
    },
    {
      "cell_type": "markdown",
      "metadata": {
        "id": "2TaEJXDuHFzX",
        "colab_type": "text"
      },
      "source": [
        "## (ii) Data Normalization\n",
        "\n",
        "The next step is the choose of the ratings matrices normalizations. Each of the constructed matrices, user and item, can be normalized with different normalization types, such as normalization by the average user or item rating. Additionally, instead of using the actual user rating as the target for the regression task, it can also be normalized with normalization by the average user or item rating (Braida et al., 2015). Note that a major difference between COFILS and this work is the untying of the matrix normalization from the target normalization. This flexibilize the methodology and was able to improve the results even using SVD as latent variable extraction technique for some data sets. The **missing ratings from the ratings matrix are filled with zero**. Regarding the normalization chosen, previous experiments indicate that the system performed better with no normalization in ratings matrix and normalization by the item mean in ratings that is used as the regression target.\n",
        "\n",
        "1.   Fill missing ratings with zero\n",
        "2.   No matrix normalization, Target normalization by item mean\n",
        "\n"
      ]
    },
    {
      "cell_type": "code",
      "metadata": {
        "id": "atSyJP02IlH1",
        "colab_type": "code",
        "outputId": "f68ffd9a-a756-4f98-ce24-4b3b2a72deb3",
        "colab": {
          "base_uri": "https://localhost:8080/",
          "height": 790
        }
      },
      "source": [
        "import warnings\n",
        "import numpy as np\n",
        "\n",
        "from IPython.core import display as ICD\n",
        "from sklearn.preprocessing import MinMaxScaler\n",
        "from pandas.core.common import SettingWithCopyWarning\n",
        "\n",
        "warnings.simplefilter(action='ignore', category=FutureWarning)\n",
        "warnings.simplefilter(action='ignore', category=SettingWithCopyWarning)\n",
        "\n",
        "print('Normalizing dataset by its column\\'s mean:')\n",
        "\n",
        "# normalize each column of matrix by the same column's mean\n",
        "mean_normalized_dataset = pd.DataFrame()\n",
        "# we compute columns mean from original dataset so we can use same\n",
        "# mean for test and train if necessary\n",
        "global_mean = dataset.groupby(by=[dataset_col_name]).mean()\n",
        "for group_id, group in train.groupby(by=[dataset_col_name]):\n",
        "  print(str(global_mean[group_id][0]))\n",
        "  group[dataset_val_name] = group[dataset_val_name] - global_mean[group_id][0]\n",
        "  mean_normalized_dataset = mean_normalized_dataset.append(group.reset_index())\n",
        "\n",
        "  print('\\rGroup %d has been fully normilized (%0.2f%%)' %\n",
        "        (group_id, (group_id / dataset_col_count) * 100), end='')\n",
        "print('\\rGroup %d has been fully normilized (%0.2f%%)' % (group_id, 100))\n",
        "\n",
        "print('\\n\\tMean Normalized Dataset\\n')\n",
        "print('\\nHead:')\n",
        "ICD.display(mean_normalized_dataset.head())\n",
        "print('\\nSummery of \\'%s\\':' % dataset_val_name)\n",
        "ICD.display(mean_normalized_dataset[[dataset_val_name]].describe())\n",
        "\n",
        "\n",
        "print('Normalizing dataset by its column\\'s max:')\n",
        "\n",
        "# scaled_normalized_dataset = pd.DataFrame()\n",
        "# for group_id, group in train.groupby(by=[dataset_col_name]):\n",
        "#   max = group[dataset_val_name].max().max()\n",
        "#   scaled_normalized = group.copy()\n",
        "#   scaled_normalized[dataset_val_name] = scaled_normalized[dataset_val_name].apply(lambda x: x / max)\n",
        "#   scaled_normalized_dataset = scaled_normalized_dataset.append(scaled_normalized.reset_index())\n",
        "\n",
        "#   print('\\rGroup %d has been fully normilized (%0.2f%%)' %\n",
        "#         (group_id, (group_id / dataset_col_count) * 100), end='')\n",
        "# print('\\rGroup %d has been fully normilized (%0.2f%%)' % (group_id, 100))\n",
        "\n",
        "scaler = MinMaxScaler(feature_range=(0, 1))\n",
        "scaler.fit(dataset)\n",
        "scaled_normalized_dataset = pd.DataFrame(scaler.transform(train), columns=dataset_columns)\n",
        "\n",
        "print('\\nScaled Normalized Dataset\\n')\n",
        "print('\\nHead')\n",
        "ICD.display(scaled_normalized_dataset.head())\n",
        "print('\\nSummery of \\'%s\\':' % dataset_val_name)\n",
        "ICD.display(scaled_normalized_dataset[[dataset_val_name]].describe())"
      ],
      "execution_count": 10,
      "outputs": [
        {
          "output_type": "stream",
          "text": [
            "Normalizing dataset by its column's mean:\n"
          ],
          "name": "stdout"
        },
        {
          "output_type": "error",
          "ename": "KeyError",
          "evalue": "ignored",
          "traceback": [
            "\u001b[0;31m---------------------------------------------------------------------------\u001b[0m",
            "\u001b[0;31mKeyError\u001b[0m                                  Traceback (most recent call last)",
            "\u001b[0;32m/usr/local/lib/python3.6/dist-packages/pandas/core/indexes/base.py\u001b[0m in \u001b[0;36mget_loc\u001b[0;34m(self, key, method, tolerance)\u001b[0m\n\u001b[1;32m   2656\u001b[0m             \u001b[0;32mtry\u001b[0m\u001b[0;34m:\u001b[0m\u001b[0;34m\u001b[0m\u001b[0;34m\u001b[0m\u001b[0m\n\u001b[0;32m-> 2657\u001b[0;31m                 \u001b[0;32mreturn\u001b[0m \u001b[0mself\u001b[0m\u001b[0;34m.\u001b[0m\u001b[0m_engine\u001b[0m\u001b[0;34m.\u001b[0m\u001b[0mget_loc\u001b[0m\u001b[0;34m(\u001b[0m\u001b[0mkey\u001b[0m\u001b[0;34m)\u001b[0m\u001b[0;34m\u001b[0m\u001b[0;34m\u001b[0m\u001b[0m\n\u001b[0m\u001b[1;32m   2658\u001b[0m             \u001b[0;32mexcept\u001b[0m \u001b[0mKeyError\u001b[0m\u001b[0;34m:\u001b[0m\u001b[0;34m\u001b[0m\u001b[0;34m\u001b[0m\u001b[0m\n",
            "\u001b[0;32mpandas/_libs/index.pyx\u001b[0m in \u001b[0;36mpandas._libs.index.IndexEngine.get_loc\u001b[0;34m()\u001b[0m\n",
            "\u001b[0;32mpandas/_libs/index.pyx\u001b[0m in \u001b[0;36mpandas._libs.index.IndexEngine.get_loc\u001b[0;34m()\u001b[0m\n",
            "\u001b[0;32mpandas/_libs/hashtable_class_helper.pxi\u001b[0m in \u001b[0;36mpandas._libs.hashtable.PyObjectHashTable.get_item\u001b[0;34m()\u001b[0m\n",
            "\u001b[0;32mpandas/_libs/hashtable_class_helper.pxi\u001b[0m in \u001b[0;36mpandas._libs.hashtable.PyObjectHashTable.get_item\u001b[0;34m()\u001b[0m\n",
            "\u001b[0;31mKeyError\u001b[0m: 0",
            "\nDuring handling of the above exception, another exception occurred:\n",
            "\u001b[0;31mKeyError\u001b[0m                                  Traceback (most recent call last)",
            "\u001b[0;32m<ipython-input-10-af9e1ea33b24>\u001b[0m in \u001b[0;36m<module>\u001b[0;34m()\u001b[0m\n\u001b[1;32m     17\u001b[0m \u001b[0mglobal_mean\u001b[0m \u001b[0;34m=\u001b[0m \u001b[0mdataset\u001b[0m\u001b[0;34m.\u001b[0m\u001b[0mgroupby\u001b[0m\u001b[0;34m(\u001b[0m\u001b[0mby\u001b[0m\u001b[0;34m=\u001b[0m\u001b[0;34m[\u001b[0m\u001b[0mdataset_col_name\u001b[0m\u001b[0;34m]\u001b[0m\u001b[0;34m)\u001b[0m\u001b[0;34m.\u001b[0m\u001b[0mmean\u001b[0m\u001b[0;34m(\u001b[0m\u001b[0;34m)\u001b[0m\u001b[0;34m\u001b[0m\u001b[0;34m\u001b[0m\u001b[0m\n\u001b[1;32m     18\u001b[0m \u001b[0;32mfor\u001b[0m \u001b[0mgroup_id\u001b[0m\u001b[0;34m,\u001b[0m \u001b[0mgroup\u001b[0m \u001b[0;32min\u001b[0m \u001b[0mtrain\u001b[0m\u001b[0;34m.\u001b[0m\u001b[0mgroupby\u001b[0m\u001b[0;34m(\u001b[0m\u001b[0mby\u001b[0m\u001b[0;34m=\u001b[0m\u001b[0;34m[\u001b[0m\u001b[0mdataset_col_name\u001b[0m\u001b[0;34m]\u001b[0m\u001b[0;34m)\u001b[0m\u001b[0;34m:\u001b[0m\u001b[0;34m\u001b[0m\u001b[0;34m\u001b[0m\u001b[0m\n\u001b[0;32m---> 19\u001b[0;31m   \u001b[0mprint\u001b[0m\u001b[0;34m(\u001b[0m\u001b[0mstr\u001b[0m\u001b[0;34m(\u001b[0m\u001b[0mglobal_mean\u001b[0m\u001b[0;34m[\u001b[0m\u001b[0mgroup_id\u001b[0m\u001b[0;34m]\u001b[0m\u001b[0;34m[\u001b[0m\u001b[0;36m0\u001b[0m\u001b[0;34m]\u001b[0m\u001b[0;34m)\u001b[0m\u001b[0;34m)\u001b[0m\u001b[0;34m\u001b[0m\u001b[0;34m\u001b[0m\u001b[0m\n\u001b[0m\u001b[1;32m     20\u001b[0m   \u001b[0mgroup\u001b[0m\u001b[0;34m[\u001b[0m\u001b[0mdataset_val_name\u001b[0m\u001b[0;34m]\u001b[0m \u001b[0;34m=\u001b[0m \u001b[0mgroup\u001b[0m\u001b[0;34m[\u001b[0m\u001b[0mdataset_val_name\u001b[0m\u001b[0;34m]\u001b[0m \u001b[0;34m-\u001b[0m \u001b[0mglobal_mean\u001b[0m\u001b[0;34m[\u001b[0m\u001b[0mgroup_id\u001b[0m\u001b[0;34m]\u001b[0m\u001b[0;34m[\u001b[0m\u001b[0;36m0\u001b[0m\u001b[0;34m]\u001b[0m\u001b[0;34m\u001b[0m\u001b[0;34m\u001b[0m\u001b[0m\n\u001b[1;32m     21\u001b[0m   \u001b[0mmean_normalized_dataset\u001b[0m \u001b[0;34m=\u001b[0m \u001b[0mmean_normalized_dataset\u001b[0m\u001b[0;34m.\u001b[0m\u001b[0mappend\u001b[0m\u001b[0;34m(\u001b[0m\u001b[0mgroup\u001b[0m\u001b[0;34m.\u001b[0m\u001b[0mreset_index\u001b[0m\u001b[0;34m(\u001b[0m\u001b[0;34m)\u001b[0m\u001b[0;34m)\u001b[0m\u001b[0;34m\u001b[0m\u001b[0;34m\u001b[0m\u001b[0m\n",
            "\u001b[0;32m/usr/local/lib/python3.6/dist-packages/pandas/core/frame.py\u001b[0m in \u001b[0;36m__getitem__\u001b[0;34m(self, key)\u001b[0m\n\u001b[1;32m   2925\u001b[0m             \u001b[0;32mif\u001b[0m \u001b[0mself\u001b[0m\u001b[0;34m.\u001b[0m\u001b[0mcolumns\u001b[0m\u001b[0;34m.\u001b[0m\u001b[0mnlevels\u001b[0m \u001b[0;34m>\u001b[0m \u001b[0;36m1\u001b[0m\u001b[0;34m:\u001b[0m\u001b[0;34m\u001b[0m\u001b[0;34m\u001b[0m\u001b[0m\n\u001b[1;32m   2926\u001b[0m                 \u001b[0;32mreturn\u001b[0m \u001b[0mself\u001b[0m\u001b[0;34m.\u001b[0m\u001b[0m_getitem_multilevel\u001b[0m\u001b[0;34m(\u001b[0m\u001b[0mkey\u001b[0m\u001b[0;34m)\u001b[0m\u001b[0;34m\u001b[0m\u001b[0;34m\u001b[0m\u001b[0m\n\u001b[0;32m-> 2927\u001b[0;31m             \u001b[0mindexer\u001b[0m \u001b[0;34m=\u001b[0m \u001b[0mself\u001b[0m\u001b[0;34m.\u001b[0m\u001b[0mcolumns\u001b[0m\u001b[0;34m.\u001b[0m\u001b[0mget_loc\u001b[0m\u001b[0;34m(\u001b[0m\u001b[0mkey\u001b[0m\u001b[0;34m)\u001b[0m\u001b[0;34m\u001b[0m\u001b[0;34m\u001b[0m\u001b[0m\n\u001b[0m\u001b[1;32m   2928\u001b[0m             \u001b[0;32mif\u001b[0m \u001b[0mis_integer\u001b[0m\u001b[0;34m(\u001b[0m\u001b[0mindexer\u001b[0m\u001b[0;34m)\u001b[0m\u001b[0;34m:\u001b[0m\u001b[0;34m\u001b[0m\u001b[0;34m\u001b[0m\u001b[0m\n\u001b[1;32m   2929\u001b[0m                 \u001b[0mindexer\u001b[0m \u001b[0;34m=\u001b[0m \u001b[0;34m[\u001b[0m\u001b[0mindexer\u001b[0m\u001b[0;34m]\u001b[0m\u001b[0;34m\u001b[0m\u001b[0;34m\u001b[0m\u001b[0m\n",
            "\u001b[0;32m/usr/local/lib/python3.6/dist-packages/pandas/core/indexes/base.py\u001b[0m in \u001b[0;36mget_loc\u001b[0;34m(self, key, method, tolerance)\u001b[0m\n\u001b[1;32m   2657\u001b[0m                 \u001b[0;32mreturn\u001b[0m \u001b[0mself\u001b[0m\u001b[0;34m.\u001b[0m\u001b[0m_engine\u001b[0m\u001b[0;34m.\u001b[0m\u001b[0mget_loc\u001b[0m\u001b[0;34m(\u001b[0m\u001b[0mkey\u001b[0m\u001b[0;34m)\u001b[0m\u001b[0;34m\u001b[0m\u001b[0;34m\u001b[0m\u001b[0m\n\u001b[1;32m   2658\u001b[0m             \u001b[0;32mexcept\u001b[0m \u001b[0mKeyError\u001b[0m\u001b[0;34m:\u001b[0m\u001b[0;34m\u001b[0m\u001b[0;34m\u001b[0m\u001b[0m\n\u001b[0;32m-> 2659\u001b[0;31m                 \u001b[0;32mreturn\u001b[0m \u001b[0mself\u001b[0m\u001b[0;34m.\u001b[0m\u001b[0m_engine\u001b[0m\u001b[0;34m.\u001b[0m\u001b[0mget_loc\u001b[0m\u001b[0;34m(\u001b[0m\u001b[0mself\u001b[0m\u001b[0;34m.\u001b[0m\u001b[0m_maybe_cast_indexer\u001b[0m\u001b[0;34m(\u001b[0m\u001b[0mkey\u001b[0m\u001b[0;34m)\u001b[0m\u001b[0;34m)\u001b[0m\u001b[0;34m\u001b[0m\u001b[0;34m\u001b[0m\u001b[0m\n\u001b[0m\u001b[1;32m   2660\u001b[0m         \u001b[0mindexer\u001b[0m \u001b[0;34m=\u001b[0m \u001b[0mself\u001b[0m\u001b[0;34m.\u001b[0m\u001b[0mget_indexer\u001b[0m\u001b[0;34m(\u001b[0m\u001b[0;34m[\u001b[0m\u001b[0mkey\u001b[0m\u001b[0;34m]\u001b[0m\u001b[0;34m,\u001b[0m \u001b[0mmethod\u001b[0m\u001b[0;34m=\u001b[0m\u001b[0mmethod\u001b[0m\u001b[0;34m,\u001b[0m \u001b[0mtolerance\u001b[0m\u001b[0;34m=\u001b[0m\u001b[0mtolerance\u001b[0m\u001b[0;34m)\u001b[0m\u001b[0;34m\u001b[0m\u001b[0;34m\u001b[0m\u001b[0m\n\u001b[1;32m   2661\u001b[0m         \u001b[0;32mif\u001b[0m \u001b[0mindexer\u001b[0m\u001b[0;34m.\u001b[0m\u001b[0mndim\u001b[0m \u001b[0;34m>\u001b[0m \u001b[0;36m1\u001b[0m \u001b[0;32mor\u001b[0m \u001b[0mindexer\u001b[0m\u001b[0;34m.\u001b[0m\u001b[0msize\u001b[0m \u001b[0;34m>\u001b[0m \u001b[0;36m1\u001b[0m\u001b[0;34m:\u001b[0m\u001b[0;34m\u001b[0m\u001b[0;34m\u001b[0m\u001b[0m\n",
            "\u001b[0;32mpandas/_libs/index.pyx\u001b[0m in \u001b[0;36mpandas._libs.index.IndexEngine.get_loc\u001b[0;34m()\u001b[0m\n",
            "\u001b[0;32mpandas/_libs/index.pyx\u001b[0m in \u001b[0;36mpandas._libs.index.IndexEngine.get_loc\u001b[0;34m()\u001b[0m\n",
            "\u001b[0;32mpandas/_libs/hashtable_class_helper.pxi\u001b[0m in \u001b[0;36mpandas._libs.hashtable.PyObjectHashTable.get_item\u001b[0;34m()\u001b[0m\n",
            "\u001b[0;32mpandas/_libs/hashtable_class_helper.pxi\u001b[0m in \u001b[0;36mpandas._libs.hashtable.PyObjectHashTable.get_item\u001b[0;34m()\u001b[0m\n",
            "\u001b[0;31mKeyError\u001b[0m: 0"
          ]
        }
      ]
    },
    {
      "cell_type": "code",
      "metadata": {
        "id": "xM712Qytz0ia",
        "colab_type": "code",
        "outputId": "71f3a852-aa8c-461e-ac60-b9ffe03a66d5",
        "colab": {
          "base_uri": "https://localhost:8080/",
          "height": 55
        }
      },
      "source": [
        "from scipy.sparse import csr_matrix\n",
        "\n",
        "def sparce_to_dense(matrix, row_name, col_name, val_name, row_count, col_count):\n",
        "  matrix_val = np.array(matrix[[val_name]]).reshape(-1)\n",
        "  matrix_row = np.array(matrix[[row_name]]).reshape(-1)\n",
        "  matrix_col = np.array(matrix[[col_name]]).reshape(-1)\n",
        "  matrix_dense = csr_matrix((matrix_val, (matrix_row, matrix_col)), \n",
        "                            shape=(row_count, col_count))\n",
        "  matrix_dense = matrix_dense.todense()\n",
        "  return matrix_dense\n",
        "\n",
        "mean_normalized_train, mean_normalized_test = train_test_split(mean_normalized_dataset, test_size=0.1)\n",
        "\n",
        "dataset_splited_path = os.path.join('/content/dataset_splited', dataset_name)\n",
        "\n",
        "mean_normalized_train.to_csv(os.path.join(dataset_splited_path, 'mean_normalized_train.csv'), header=False, index=False)\n",
        "mean_normalized_test.to_csv(os.path.join(dataset_splited_path, 'mean_normalized_test.csv'), header=False, index=False)\n",
        "\n",
        "scaled_normalized_train, scaled_normalized_test = train_test_split(scaled_normalized_dataset, test_size=0.1)\n",
        "\n",
        "scaled_normalized_train.to_csv(os.path.join(dataset_splited_path, 'scaled_normalized_train.csv'), header=False, index=False)\n",
        "scaled_normalized_train_dense = sparce_to_dense(scaled_normalized_train, dataset_row_name, dataset_col_name, dataset_val_name, dataset_row_count, dataset_col_count)\n",
        "\n",
        "scaled_normalized_test.to_csv(os.path.join(dataset_splited_path, 'scaled_normalized_test.csv'), header=False, index=False)\n",
        "scaled_normalized_test_dense = sparce_to_dense(scaled_normalized_test, dataset_row_name, dataset_col_name, dataset_val_name, dataset_row_count, dataset_col_count)\n",
        "\n",
        "row_col_scaled_normalized_matrix = np.array(scaled_normalized_train_dense)\n",
        "col_row_scaled_normalized_matrix = np.array(scaled_normalized_train_dense).transpose()\n",
        "\n",
        "del scaled_normalized_train_dense, scaled_normalized_test_dense\n",
        "\n",
        "print('Train set with %d samples.' % mean_normalized_train.shape[0])\n",
        "print('Test set with %d samples' % mean_normalized_test.shape[0])"
      ],
      "execution_count": 0,
      "outputs": [
        {
          "output_type": "stream",
          "text": [
            "Train set with 90000 samples.\n",
            "Test set with 10000 samples\n"
          ],
          "name": "stdout"
        }
      ]
    },
    {
      "cell_type": "markdown",
      "metadata": {
        "id": "0-edvuoYJNkM",
        "colab_type": "text"
      },
      "source": [
        "## (iii) Autoencoder architecture selection\n",
        "\n",
        "After the normalization process, it is needed to adjust the users and items matrix range to the used Autoencoder activation function range. Later, a Denoising Autoencoder is trained for users features using the normalized user matrix and another is trained for the item features used the normalized item matrix.\n",
        "\n",
        "The figure 8 shows the five architectures that yield the best results. Based on that, the chosen ar- chitecture are two stacked layers with 900 neurons in the first layer and 50 in the second.\n",
        "\n",
        "Both is trained using regular backpropagation algorithm using bellow specification for all stacked layers:\n",
        "\n",
        "1.   learning rate of γ=0.01\n",
        "2.   Corruption level v=50%\n",
        "3.   Sigmoid activation function\n",
        "4.   L2 regularization λ=0.001\n",
        "5.   Squared error loss function\n",
        "\n"
      ]
    },
    {
      "cell_type": "code",
      "metadata": {
        "id": "Htux-QtMxuMB",
        "colab_type": "code",
        "outputId": "23d5349b-5d49-4bb3-c084-351623b4e092",
        "colab": {
          "base_uri": "https://localhost:8080/",
          "height": 36
        }
      },
      "source": [
        "from keras import regularizers, losses, activations\n",
        "\n",
        "learning_rate = 0.01\n",
        "corruption_level = 0.50\n",
        "activation_function = activations.sigmoid\n",
        "regularization = regularizers.l2(0.001)\n",
        "loss_function = losses.mean_squared_error"
      ],
      "execution_count": 0,
      "outputs": [
        {
          "output_type": "stream",
          "text": [
            "Using TensorFlow backend.\n"
          ],
          "name": "stderr"
        }
      ]
    },
    {
      "cell_type": "code",
      "metadata": {
        "id": "Cr_xQsHgxh4G",
        "colab_type": "code",
        "outputId": "55c0adec-d613-4861-d537-f93d32736a0e",
        "colab": {
          "base_uri": "https://localhost:8080/",
          "height": 151
        }
      },
      "source": [
        "from keras.layers import Dense, Dropout\n",
        "from keras import Input, Model\n",
        "from keras import optimizers, backend\n",
        "from sklearn.metrics import mean_absolute_error, mean_squared_error, mean_squared_log_error\n",
        "\n",
        "backend.clear_session()\n",
        "\n",
        "def create_denoising_autoencoder(input_len, \n",
        "                                 hidden_dim,\n",
        "                                 corruption_level,\n",
        "                                 activation_function,\n",
        "                                 regularization,\n",
        "                                 learning_rate,\n",
        "                                 loss_function,\n",
        "                                 name = None):\n",
        "  name = name + \"_\" if name is not None else ''\n",
        "  layer_input = Input(shape=(input_len,),\n",
        "                      name=name + 'input')\n",
        "  encoder_dropout = Dropout(corruption_level,\n",
        "                            name=name+'dropout')\n",
        "  encoder = Dense(units=hidden_dim,\n",
        "                  activation=activation_function,\n",
        "                  kernel_regularizer=regularization,\n",
        "                  name=name + 'encoder')\n",
        "  \n",
        "  decoder = Dense(units=input_len,\n",
        "                  activation=activation_function,\n",
        "                  kernel_regularizer=regularization,\n",
        "                  name=name + 'decoder')\n",
        "  \n",
        "  DAE = decoder(encoder(encoder_dropout(layer_input)))\n",
        "  DAE = Model(layer_input, DAE)\n",
        "  DAE.compile(optimizer=optimizers.Adam(lr=learning_rate), loss=loss_function)\n",
        "  \n",
        "  encoder = encoder(encoder_dropout(layer_input))\n",
        "  encoder = Model(layer_input, encoder)\n",
        "  \n",
        "  return layer_input, encoder, DAE\n",
        "\n",
        "row_first_input, row_first_encoder, row_first_DAE = \\\n",
        "  create_denoising_autoencoder(dataset_col_count,\n",
        "                               900,\n",
        "                               corruption_level,\n",
        "                               activation_function,\n",
        "                               regularization,\n",
        "                               learning_rate,\n",
        "                               loss_function,\n",
        "                               'row_first')\n",
        "\n",
        "col_first_input, col_first_encoder, col_first_DAE = \\\n",
        "  create_denoising_autoencoder(dataset_row_count,\n",
        "                               900,\n",
        "                               corruption_level,\n",
        "                               activation_function,\n",
        "                               regularization,\n",
        "                               learning_rate,\n",
        "                               loss_function,\n",
        "                               'col_first')\n",
        "\n",
        "row_second_input, row_second_encoder, row_second_DAE = \\\n",
        "  create_denoising_autoencoder(900,\n",
        "                               50,\n",
        "                               corruption_level,\n",
        "                               activation_function,\n",
        "                               regularization,\n",
        "                               learning_rate,\n",
        "                               loss_function,\n",
        "                               'row_second')\n",
        "\n",
        "col_second_input, col_second_encoder, col_second_DAE = \\\n",
        "  create_denoising_autoencoder(900,\n",
        "                               50,\n",
        "                               corruption_level,\n",
        "                               activation_function,\n",
        "                               regularization,\n",
        "                               learning_rate,\n",
        "                               loss_function,\n",
        "                               'col_second')\n"
      ],
      "execution_count": 0,
      "outputs": [
        {
          "output_type": "stream",
          "text": [
            "WARNING:tensorflow:From /usr/local/lib/python3.6/dist-packages/tensorflow/python/ops/control_flow_ops.py:423: colocate_with (from tensorflow.python.framework.ops) is deprecated and will be removed in a future version.\n",
            "Instructions for updating:\n",
            "Colocations handled automatically by placer.\n",
            "WARNING:tensorflow:From /usr/local/lib/python3.6/dist-packages/keras/backend/tensorflow_backend.py:3445: calling dropout (from tensorflow.python.ops.nn_ops) with keep_prob is deprecated and will be removed in a future version.\n",
            "Instructions for updating:\n",
            "Please use `rate` instead of `keep_prob`. Rate should be set to `rate = 1 - keep_prob`.\n"
          ],
          "name": "stdout"
        }
      ]
    },
    {
      "cell_type": "code",
      "metadata": {
        "id": "KZsyFD2zLA5U",
        "colab_type": "code",
        "outputId": "a905a701-912a-4fd4-c763-feb217d5b37a",
        "colab": {
          "base_uri": "https://localhost:8080/",
          "height": 1500
        }
      },
      "source": [
        "import datetime\n",
        "import matplotlib.pyplot as plt\n",
        "\n",
        "loss_function_name = loss_function.__name__ if hasattr(loss_function, '__name__') else 'loss'\n",
        "\n",
        "print('- Fitting denoising auto-encoder for rows at ' +\n",
        "      str(datetime.datetime.now().strftime('%Y-%m-%d %H:%M:%S')))\n",
        "\n",
        "row_first_DAE_history = row_first_DAE.fit(row_col_scaled_normalized_matrix,\n",
        "                                          row_col_scaled_normalized_matrix,\n",
        "                                          verbose=0,\n",
        "                                          epochs=300,\n",
        "                                          shuffle=True)\n",
        "\n",
        "loss = row_first_DAE_history.history['loss']\n",
        "print('\\tFirst DAE layer trained with %s = %.4f' % (loss_function_name, loss[-1]))\n",
        "pd.Series(row_first_DAE_history.history['loss']) \\\n",
        "  .plot(logy=True, legend=True, label='Row First Denoising AutoEncoder')\n",
        "plt.xlabel(\"Epoch\")\n",
        "plt.ylabel(\"Train Error\")\n",
        "print('\\n\\tRow first denoising auto-encoder\\n')\n",
        "plt.show()\n",
        "\n",
        "row_first_DAE_output = row_first_encoder.predict(row_col_scaled_normalized_matrix)\n",
        "\n",
        "row_second_DAE_history = row_second_DAE.fit(row_first_DAE_output,\n",
        "                                            row_first_DAE_output,\n",
        "                                            verbose=0,\n",
        "                                            epochs=100,\n",
        "                                            shuffle=True)\n",
        "\n",
        "loss = row_second_DAE_history.history['loss']\n",
        "print('\\tRow second DAE trained with %s = %.4f' % (loss_function_name, loss[-1]))\n",
        "pd.Series(loss) \\\n",
        "  .plot(logy=True, legend=True, label='Row Second Denoising AutoEncoder')\n",
        "plt.xlabel(\"Epoch\")\n",
        "plt.ylabel(\"Train Error\")\n",
        "print('\\n\\tRow Second Denoising AutoEncoder\\n')\n",
        "plt.show()\n",
        "\n",
        "print('- Fitting denoising auto-encoder for cols at ' +\n",
        "      str(datetime.datetime.now().strftime('%Y-%m-%d %H:%M:%S')))\n",
        "\n",
        "col_first_DAE_history = col_first_DAE.fit(col_row_scaled_normalized_matrix,\n",
        "                                          col_row_scaled_normalized_matrix,\n",
        "                                          verbose=0,\n",
        "                                          epochs=50,\n",
        "                                          shuffle=True)\n",
        "\n",
        "loss = col_first_DAE_history.history['loss']\n",
        "print('\\tCol first DAE trained with %s = %.4f' % (loss_function_name, loss[-1]))\n",
        "pd.Series(loss) \\\n",
        "  .plot(logy=True, \n",
        "        legend=True, \n",
        "        label='Col First Denoising AutoEncoder')\n",
        "plt.xlabel(\"Epoch\")\n",
        "plt.ylabel(\"Train Error\")\n",
        "print('\\n\\tCol First Denoising AutoEncoder\\n')\n",
        "plt.show()\n",
        "\n",
        "col_first_DAE_output = col_first_encoder.predict(col_row_scaled_normalized_matrix)\n",
        "\n",
        "col_second_DAE_history = col_second_DAE.fit(col_first_DAE_output,\n",
        "                                            col_first_DAE_output,\n",
        "                                            verbose=0,\n",
        "                                            epochs=30,\n",
        "                                            shuffle=True)\n",
        "\n",
        "loss = col_second_DAE_history.history['loss']\n",
        "print('\\tCol second DAE trained with %s = %.4f' % (loss_function_name, loss[-1]))\n",
        "pd.Series(loss) \\\n",
        "  .plot(logy=True, \n",
        "        legend=True, \n",
        "        label='Col Second Denoising AutoEncoder')\n",
        "plt.xlabel(\"Epoch\")\n",
        "plt.ylabel(\"Train Error\")\n",
        "print('\\n\\tCol Second Denoising AutoEncoder\\n')\n",
        "plt.show()\n"
      ],
      "execution_count": 0,
      "outputs": [
        {
          "output_type": "stream",
          "text": [
            "- Fitting denoising auto-encoder for rows at 2019-06-08 15:14:57\n",
            "WARNING:tensorflow:From /usr/local/lib/python3.6/dist-packages/tensorflow/python/ops/math_ops.py:3066: to_int32 (from tensorflow.python.ops.math_ops) is deprecated and will be removed in a future version.\n",
            "Instructions for updating:\n",
            "Use tf.cast instead.\n",
            "\tFirst DAE layer trained with mean_squared_error = 0.0268\n",
            "\n",
            "\tRow first denoising auto-encoder\n",
            "\n"
          ],
          "name": "stdout"
        },
        {
          "output_type": "display_data",
          "data": {
            "image/png": "[encoded data removed]",
            "text/plain": [
              "<Figure size 432x288 with 1 Axes>"
            ]
          },
          "metadata": {
            "tags": []
          }
        },
        {
          "output_type": "stream",
          "text": [
            "\tRow second DAE trained with mean_squared_error = 0.0000\n",
            "\n",
            "\tRow Second Denoising AutoEncoder\n",
            "\n"
          ],
          "name": "stdout"
        },
        {
          "output_type": "display_data",
          "data": {
            "image/png": "[encoded data removed]",
            "text/plain": [
              "<Figure size 432x288 with 1 Axes>"
            ]
          },
          "metadata": {
            "tags": []
          }
        },
        {
          "output_type": "stream",
          "text": [
            "- Fitting denoising auto-encoder for cols at 2019-06-08 15:15:51\n",
            "\tCol first DAE trained with mean_squared_error = 0.0289\n",
            "\n",
            "\tCol First Denoising AutoEncoder\n",
            "\n"
          ],
          "name": "stdout"
        },
        {
          "output_type": "display_data",
          "data": {
            "image/png": "[encoded data removed]",
            "text/plain": [
              "<Figure size 432x288 with 1 Axes>"
            ]
          },
          "metadata": {
            "tags": []
          }
        },
        {
          "output_type": "stream",
          "text": [
            "\tCol second DAE trained with mean_squared_error = 0.0000\n",
            "\n",
            "\tCol Second Denoising AutoEncoder\n",
            "\n"
          ],
          "name": "stdout"
        },
        {
          "output_type": "display_data",
          "data": {
            "image/png": "[encoded data removed]",
            "text/plain": [
              "<Figure size 432x288 with 1 Axes>"
            ]
          },
          "metadata": {
            "tags": []
          }
        }
      ]
    },
    {
      "cell_type": "markdown",
      "metadata": {
        "id": "ZK-mkSD8LP-E",
        "colab_type": "text"
      },
      "source": [
        "## (iv) Generating Supervised Dataset\n",
        "After, the features obtained from both Autoencoders are mapped just like in the regular COFILS methodology process mentioned early. To do that, the respective vector of features from an user u are combined with the feature vector of an item i and the rating r, or the normalized rating, given by user u for item i are used as the target for regression."
      ]
    },
    {
      "cell_type": "code",
      "metadata": {
        "id": "5zn-PDxGLiu0",
        "colab_type": "code",
        "outputId": "e322d884-d661-4b8a-910f-0cddfbfb63c1",
        "colab": {
          "base_uri": "https://localhost:8080/",
          "height": 55
        }
      },
      "source": [
        "print('- Generating supervised dataset from auto encoder hidden layers:')\n",
        "\n",
        "row_profile = row_second_encoder.predict(row_first_encoder.predict(row_col_scaled_normalized_matrix))\n",
        "col_profile = col_second_encoder.predict(col_first_encoder.predict(col_row_scaled_normalized_matrix))\n",
        "\n",
        "supervised_dataset = pd.DataFrame()\n",
        "sample_count = 0\n",
        "for index, sample in mean_normalized_train.iterrows():  \n",
        "  new_sample = row_profile[int(sample[dataset_row_name])]\n",
        "  new_sample = np.append(new_sample, col_profile[int(sample[dataset_col_name])], axis = 0)\n",
        "  new_sample = np.reshape(new_sample, (1, 100))\n",
        "  \n",
        "  supervised_dataset = supervised_dataset.append(pd.DataFrame(new_sample))\n",
        "  \n",
        "  print('\\r%.02f%% complete' % ((sample_count / mean_normalized_train.shape[0]) * 100), end='')\n",
        "  sample_count +=1\n",
        "  \n",
        "del row_profile, col_profile\n"
      ],
      "execution_count": 0,
      "outputs": [
        {
          "output_type": "stream",
          "text": [
            "- Generating supervised dataset from auto encoder hidden layers:\n",
            "100.00% complete"
          ],
          "name": "stdout"
        }
      ]
    },
    {
      "cell_type": "code",
      "metadata": {
        "id": "OGabSLhVrr7e",
        "colab_type": "code",
        "outputId": "2e54f490-4b1e-4afd-f9c5-c4905d70f8a0",
        "colab": {
          "base_uri": "https://localhost:8080/",
          "height": 36
        }
      },
      "source": [
        "print(supervised_dataset.shape)"
      ],
      "execution_count": 0,
      "outputs": [
        {
          "output_type": "stream",
          "text": [
            "(1979, 100)\n"
          ],
          "name": "stdout"
        }
      ]
    },
    {
      "cell_type": "markdown",
      "metadata": {
        "id": "OkO8WYzGLjJX",
        "colab_type": "text"
      },
      "source": [
        "## (v) Applying a Regressor\n",
        "Lastly its possible to use the generated supervised learning data set to train a regressor model that can be used to make predictions. For this step a Random Forest Regressor, with t=500 trees and using the square root of the number of original features, is chosen, based on previous experiments, and its performance in COFILS original work (Braida et al., 2015)."
      ]
    },
    {
      "cell_type": "code",
      "metadata": {
        "id": "7McWwyUtL18H",
        "colab_type": "code",
        "outputId": "82167d5e-bd92-4ecd-bab5-2ce0763e5dde",
        "colab": {
          "base_uri": "https://localhost:8080/",
          "height": 2272
        }
      },
      "source": [
        "input_ = Input(shape=(100, ))\n",
        "model = Dense(32, input_shape=(100, ))(input_)\n",
        "model = Dense(16)(model)\n",
        "model = Dense(1)(model)\n",
        "\n",
        "model = Model(input_, model)\n",
        "model.compile(optimizer=optimizers.Adam(lr=0.001), loss=losses.mean_absolute_error)\n",
        "\n",
        "history = model.fit(supervised_dataset,\n",
        "                    np.array(mean_normalized_train[[dataset_val_name]]),\n",
        "                    verbose=1,\n",
        "                    batch_size=1024,\n",
        "                    epochs=300,\n",
        "                    shuffle=True)\n",
        "\n",
        "loss = history.history['loss']\n",
        "print('\\tFirst DAE layer trained with %s = %.4f' % (loss_function_name, loss[-1]))\n",
        "pd.Series(loss) \\\n",
        "  .plot(logy=True, \n",
        "        legend=True, \n",
        "        label='Row First Denoising AutoEncoder')\n",
        "plt.xlabel(\"Epoch\")\n",
        "plt.ylabel(\"Train Error\")\n",
        "print('\\n\\tRow first denoising auto-encoder\\n')\n",
        "plt.show()"
      ],
      "execution_count": 0,
      "outputs": [
        {
          "output_type": "stream",
          "text": [
            "Epoch 1/300\n",
            "90000/90000 [==============================] - 1s 12us/step - loss: 1.0101\n",
            "Epoch 2/300\n",
            "90000/90000 [==============================] - 0s 5us/step - loss: 0.9995\n",
            "Epoch 3/300\n",
            "90000/90000 [==============================] - 0s 4us/step - loss: 1.0016\n",
            "Epoch 4/300\n",
            "90000/90000 [==============================] - 0s 4us/step - loss: 1.0019\n",
            "Epoch 5/300\n",
            "90000/90000 [==============================] - 0s 5us/step - loss: 1.0005\n",
            "Epoch 6/300\n",
            "90000/90000 [==============================] - 0s 5us/step - loss: 1.0061\n",
            "Epoch 7/300\n",
            "90000/90000 [==============================] - 0s 5us/step - loss: 0.9998\n",
            "Epoch 8/300\n",
            "90000/90000 [==============================] - 0s 4us/step - loss: 1.0025\n",
            "Epoch 9/300\n",
            "90000/90000 [==============================] - 0s 4us/step - loss: 1.0025\n",
            "Epoch 10/300\n",
            "90000/90000 [==============================] - 0s 5us/step - loss: 1.0003\n",
            "Epoch 11/300\n",
            "90000/90000 [==============================] - 0s 5us/step - loss: 0.9996\n",
            "Epoch 12/300\n",
            "90000/90000 [==============================] - 0s 5us/step - loss: 0.9998\n",
            "Epoch 13/300\n",
            "90000/90000 [==============================] - 0s 5us/step - loss: 1.0011\n",
            "Epoch 14/300\n",
            "90000/90000 [==============================] - 0s 4us/step - loss: 1.0009\n",
            "Epoch 15/300\n",
            "90000/90000 [==============================] - 0s 5us/step - loss: 0.9997\n",
            "Epoch 16/300\n",
            "90000/90000 [==============================] - 0s 4us/step - loss: 1.0000\n",
            "Epoch 17/300\n",
            "90000/90000 [==============================] - 0s 5us/step - loss: 0.9994\n",
            "Epoch 18/300\n",
            "90000/90000 [==============================] - 0s 4us/step - loss: 1.0005\n",
            "Epoch 19/300\n",
            "90000/90000 [==============================] - 0s 5us/step - loss: 1.0000\n",
            "Epoch 20/300\n",
            "90000/90000 [==============================] - 0s 5us/step - loss: 0.9997\n",
            "Epoch 21/300\n",
            "90000/90000 [==============================] - 0s 5us/step - loss: 0.9990\n",
            "Epoch 22/300\n",
            "90000/90000 [==============================] - 0s 5us/step - loss: 1.0011\n",
            "Epoch 23/300\n",
            "90000/90000 [==============================] - 0s 5us/step - loss: 0.9991\n",
            "Epoch 24/300\n",
            "90000/90000 [==============================] - 0s 5us/step - loss: 0.9991\n",
            "Epoch 25/300\n",
            "90000/90000 [==============================] - 0s 5us/step - loss: 0.9998\n",
            "Epoch 26/300\n",
            "90000/90000 [==============================] - 0s 5us/step - loss: 1.0002\n",
            "Epoch 27/300\n",
            "90000/90000 [==============================] - 0s 5us/step - loss: 0.9986\n",
            "Epoch 28/300\n",
            "90000/90000 [==============================] - 0s 5us/step - loss: 0.9989\n",
            "Epoch 29/300\n",
            "90000/90000 [==============================] - 0s 5us/step - loss: 1.0000\n",
            "Epoch 30/300\n",
            "90000/90000 [==============================] - 0s 5us/step - loss: 1.0009\n",
            "Epoch 31/300\n",
            "90000/90000 [==============================] - 0s 5us/step - loss: 0.9989\n",
            "Epoch 32/300\n",
            "90000/90000 [==============================] - 0s 5us/step - loss: 0.9985\n",
            "Epoch 33/300\n",
            "90000/90000 [==============================] - 0s 4us/step - loss: 0.9988\n",
            "Epoch 34/300\n",
            "90000/90000 [==============================] - 0s 5us/step - loss: 0.9985\n",
            "Epoch 35/300\n",
            "90000/90000 [==============================] - 0s 5us/step - loss: 1.0009\n",
            "Epoch 36/300\n",
            "90000/90000 [==============================] - 0s 4us/step - loss: 0.9995\n",
            "Epoch 37/300\n",
            "90000/90000 [==============================] - 0s 5us/step - loss: 0.9989\n",
            "Epoch 38/300\n",
            "90000/90000 [==============================] - 0s 5us/step - loss: 0.9992\n",
            "Epoch 39/300\n",
            "90000/90000 [==============================] - 0s 4us/step - loss: 0.9988\n",
            "Epoch 40/300\n",
            "90000/90000 [==============================] - 0s 5us/step - loss: 0.9985\n",
            "Epoch 41/300\n",
            "90000/90000 [==============================] - 0s 5us/step - loss: 0.9990\n",
            "Epoch 42/300\n",
            "90000/90000 [==============================] - 0s 5us/step - loss: 0.9987\n",
            "Epoch 43/300\n",
            "90000/90000 [==============================] - 0s 5us/step - loss: 0.9986\n",
            "Epoch 44/300\n",
            "90000/90000 [==============================] - 0s 5us/step - loss: 0.9983\n",
            "Epoch 45/300\n",
            "90000/90000 [==============================] - 0s 5us/step - loss: 0.9985\n",
            "Epoch 46/300\n",
            "90000/90000 [==============================] - 0s 5us/step - loss: 0.9984\n",
            "Epoch 47/300\n",
            "90000/90000 [==============================] - 0s 5us/step - loss: 0.9990\n",
            "Epoch 48/300\n",
            "90000/90000 [==============================] - 0s 5us/step - loss: 0.9985\n",
            "Epoch 49/300\n",
            "12288/90000 [===>..........................] - ETA: 0s - loss: 0.9939"
          ],
          "name": "stdout"
        },
        {
          "output_type": "error",
          "ename": "KeyboardInterrupt",
          "evalue": "ignored",
          "traceback": [
            "\u001b[0;31m---------------------------------------------------------------------------\u001b[0m",
            "\u001b[0;31mKeyboardInterrupt\u001b[0m                         Traceback (most recent call last)",
            "\u001b[0;32m<ipython-input-55-b1493da0bfc0>\u001b[0m in \u001b[0;36m<module>\u001b[0;34m()\u001b[0m\n\u001b[1;32m     12\u001b[0m                     \u001b[0mbatch_size\u001b[0m\u001b[0;34m=\u001b[0m\u001b[0;36m1024\u001b[0m\u001b[0;34m,\u001b[0m\u001b[0;34m\u001b[0m\u001b[0;34m\u001b[0m\u001b[0m\n\u001b[1;32m     13\u001b[0m                     \u001b[0mepochs\u001b[0m\u001b[0;34m=\u001b[0m\u001b[0;36m300\u001b[0m\u001b[0;34m,\u001b[0m\u001b[0;34m\u001b[0m\u001b[0;34m\u001b[0m\u001b[0m\n\u001b[0;32m---> 14\u001b[0;31m                     shuffle=True)\n\u001b[0m\u001b[1;32m     15\u001b[0m \u001b[0;34m\u001b[0m\u001b[0m\n\u001b[1;32m     16\u001b[0m \u001b[0mloss\u001b[0m \u001b[0;34m=\u001b[0m \u001b[0mhistory\u001b[0m\u001b[0;34m.\u001b[0m\u001b[0mhistory\u001b[0m\u001b[0;34m[\u001b[0m\u001b[0;34m'loss'\u001b[0m\u001b[0;34m]\u001b[0m\u001b[0;34m\u001b[0m\u001b[0;34m\u001b[0m\u001b[0m\n",
            "\u001b[0;32m/usr/local/lib/python3.6/dist-packages/keras/engine/training.py\u001b[0m in \u001b[0;36mfit\u001b[0;34m(self, x, y, batch_size, epochs, verbose, callbacks, validation_split, validation_data, shuffle, class_weight, sample_weight, initial_epoch, steps_per_epoch, validation_steps, **kwargs)\u001b[0m\n\u001b[1;32m   1037\u001b[0m                                         \u001b[0minitial_epoch\u001b[0m\u001b[0;34m=\u001b[0m\u001b[0minitial_epoch\u001b[0m\u001b[0;34m,\u001b[0m\u001b[0;34m\u001b[0m\u001b[0;34m\u001b[0m\u001b[0m\n\u001b[1;32m   1038\u001b[0m                                         \u001b[0msteps_per_epoch\u001b[0m\u001b[0;34m=\u001b[0m\u001b[0msteps_per_epoch\u001b[0m\u001b[0;34m,\u001b[0m\u001b[0;34m\u001b[0m\u001b[0;34m\u001b[0m\u001b[0m\n\u001b[0;32m-> 1039\u001b[0;31m                                         validation_steps=validation_steps)\n\u001b[0m\u001b[1;32m   1040\u001b[0m \u001b[0;34m\u001b[0m\u001b[0m\n\u001b[1;32m   1041\u001b[0m     def evaluate(self, x=None, y=None,\n",
            "\u001b[0;32m/usr/local/lib/python3.6/dist-packages/keras/engine/training_arrays.py\u001b[0m in \u001b[0;36mfit_loop\u001b[0;34m(model, f, ins, out_labels, batch_size, epochs, verbose, callbacks, val_f, val_ins, shuffle, callback_metrics, initial_epoch, steps_per_epoch, validation_steps)\u001b[0m\n\u001b[1;32m    197\u001b[0m                     \u001b[0mins_batch\u001b[0m\u001b[0;34m[\u001b[0m\u001b[0mi\u001b[0m\u001b[0;34m]\u001b[0m \u001b[0;34m=\u001b[0m \u001b[0mins_batch\u001b[0m\u001b[0;34m[\u001b[0m\u001b[0mi\u001b[0m\u001b[0;34m]\u001b[0m\u001b[0;34m.\u001b[0m\u001b[0mtoarray\u001b[0m\u001b[0;34m(\u001b[0m\u001b[0;34m)\u001b[0m\u001b[0;34m\u001b[0m\u001b[0;34m\u001b[0m\u001b[0m\n\u001b[1;32m    198\u001b[0m \u001b[0;34m\u001b[0m\u001b[0m\n\u001b[0;32m--> 199\u001b[0;31m                 \u001b[0mouts\u001b[0m \u001b[0;34m=\u001b[0m \u001b[0mf\u001b[0m\u001b[0;34m(\u001b[0m\u001b[0mins_batch\u001b[0m\u001b[0;34m)\u001b[0m\u001b[0;34m\u001b[0m\u001b[0;34m\u001b[0m\u001b[0m\n\u001b[0m\u001b[1;32m    200\u001b[0m                 \u001b[0mouts\u001b[0m \u001b[0;34m=\u001b[0m \u001b[0mto_list\u001b[0m\u001b[0;34m(\u001b[0m\u001b[0mouts\u001b[0m\u001b[0;34m)\u001b[0m\u001b[0;34m\u001b[0m\u001b[0;34m\u001b[0m\u001b[0m\n\u001b[1;32m    201\u001b[0m                 \u001b[0;32mfor\u001b[0m \u001b[0ml\u001b[0m\u001b[0;34m,\u001b[0m \u001b[0mo\u001b[0m \u001b[0;32min\u001b[0m \u001b[0mzip\u001b[0m\u001b[0;34m(\u001b[0m\u001b[0mout_labels\u001b[0m\u001b[0;34m,\u001b[0m \u001b[0mouts\u001b[0m\u001b[0;34m)\u001b[0m\u001b[0;34m:\u001b[0m\u001b[0;34m\u001b[0m\u001b[0;34m\u001b[0m\u001b[0m\n",
            "\u001b[0;32m/usr/local/lib/python3.6/dist-packages/keras/backend/tensorflow_backend.py\u001b[0m in \u001b[0;36m__call__\u001b[0;34m(self, inputs)\u001b[0m\n\u001b[1;32m   2713\u001b[0m                 \u001b[0;32mreturn\u001b[0m \u001b[0mself\u001b[0m\u001b[0;34m.\u001b[0m\u001b[0m_legacy_call\u001b[0m\u001b[0;34m(\u001b[0m\u001b[0minputs\u001b[0m\u001b[0;34m)\u001b[0m\u001b[0;34m\u001b[0m\u001b[0;34m\u001b[0m\u001b[0m\n\u001b[1;32m   2714\u001b[0m \u001b[0;34m\u001b[0m\u001b[0m\n\u001b[0;32m-> 2715\u001b[0;31m             \u001b[0;32mreturn\u001b[0m \u001b[0mself\u001b[0m\u001b[0;34m.\u001b[0m\u001b[0m_call\u001b[0m\u001b[0;34m(\u001b[0m\u001b[0minputs\u001b[0m\u001b[0;34m)\u001b[0m\u001b[0;34m\u001b[0m\u001b[0;34m\u001b[0m\u001b[0m\n\u001b[0m\u001b[1;32m   2716\u001b[0m         \u001b[0;32melse\u001b[0m\u001b[0;34m:\u001b[0m\u001b[0;34m\u001b[0m\u001b[0;34m\u001b[0m\u001b[0m\n\u001b[1;32m   2717\u001b[0m             \u001b[0;32mif\u001b[0m \u001b[0mpy_any\u001b[0m\u001b[0;34m(\u001b[0m\u001b[0mis_tensor\u001b[0m\u001b[0;34m(\u001b[0m\u001b[0mx\u001b[0m\u001b[0;34m)\u001b[0m \u001b[0;32mfor\u001b[0m \u001b[0mx\u001b[0m \u001b[0;32min\u001b[0m \u001b[0minputs\u001b[0m\u001b[0;34m)\u001b[0m\u001b[0;34m:\u001b[0m\u001b[0;34m\u001b[0m\u001b[0;34m\u001b[0m\u001b[0m\n",
            "\u001b[0;32m/usr/local/lib/python3.6/dist-packages/keras/backend/tensorflow_backend.py\u001b[0m in \u001b[0;36m_call\u001b[0;34m(self, inputs)\u001b[0m\n\u001b[1;32m   2673\u001b[0m             \u001b[0mfetched\u001b[0m \u001b[0;34m=\u001b[0m \u001b[0mself\u001b[0m\u001b[0;34m.\u001b[0m\u001b[0m_callable_fn\u001b[0m\u001b[0;34m(\u001b[0m\u001b[0;34m*\u001b[0m\u001b[0marray_vals\u001b[0m\u001b[0;34m,\u001b[0m \u001b[0mrun_metadata\u001b[0m\u001b[0;34m=\u001b[0m\u001b[0mself\u001b[0m\u001b[0;34m.\u001b[0m\u001b[0mrun_metadata\u001b[0m\u001b[0;34m)\u001b[0m\u001b[0;34m\u001b[0m\u001b[0;34m\u001b[0m\u001b[0m\n\u001b[1;32m   2674\u001b[0m         \u001b[0;32melse\u001b[0m\u001b[0;34m:\u001b[0m\u001b[0;34m\u001b[0m\u001b[0;34m\u001b[0m\u001b[0m\n\u001b[0;32m-> 2675\u001b[0;31m             \u001b[0mfetched\u001b[0m \u001b[0;34m=\u001b[0m \u001b[0mself\u001b[0m\u001b[0;34m.\u001b[0m\u001b[0m_callable_fn\u001b[0m\u001b[0;34m(\u001b[0m\u001b[0;34m*\u001b[0m\u001b[0marray_vals\u001b[0m\u001b[0;34m)\u001b[0m\u001b[0;34m\u001b[0m\u001b[0;34m\u001b[0m\u001b[0m\n\u001b[0m\u001b[1;32m   2676\u001b[0m         \u001b[0;32mreturn\u001b[0m \u001b[0mfetched\u001b[0m\u001b[0;34m[\u001b[0m\u001b[0;34m:\u001b[0m\u001b[0mlen\u001b[0m\u001b[0;34m(\u001b[0m\u001b[0mself\u001b[0m\u001b[0;34m.\u001b[0m\u001b[0moutputs\u001b[0m\u001b[0;34m)\u001b[0m\u001b[0;34m]\u001b[0m\u001b[0;34m\u001b[0m\u001b[0;34m\u001b[0m\u001b[0m\n\u001b[1;32m   2677\u001b[0m \u001b[0;34m\u001b[0m\u001b[0m\n",
            "\u001b[0;32m/usr/local/lib/python3.6/dist-packages/tensorflow/python/client/session.py\u001b[0m in \u001b[0;36m__call__\u001b[0;34m(self, *args, **kwargs)\u001b[0m\n\u001b[1;32m   1437\u001b[0m           ret = tf_session.TF_SessionRunCallable(\n\u001b[1;32m   1438\u001b[0m               \u001b[0mself\u001b[0m\u001b[0;34m.\u001b[0m\u001b[0m_session\u001b[0m\u001b[0;34m.\u001b[0m\u001b[0m_session\u001b[0m\u001b[0;34m,\u001b[0m \u001b[0mself\u001b[0m\u001b[0;34m.\u001b[0m\u001b[0m_handle\u001b[0m\u001b[0;34m,\u001b[0m \u001b[0margs\u001b[0m\u001b[0;34m,\u001b[0m \u001b[0mstatus\u001b[0m\u001b[0;34m,\u001b[0m\u001b[0;34m\u001b[0m\u001b[0;34m\u001b[0m\u001b[0m\n\u001b[0;32m-> 1439\u001b[0;31m               run_metadata_ptr)\n\u001b[0m\u001b[1;32m   1440\u001b[0m         \u001b[0;32mif\u001b[0m \u001b[0mrun_metadata\u001b[0m\u001b[0;34m:\u001b[0m\u001b[0;34m\u001b[0m\u001b[0;34m\u001b[0m\u001b[0m\n\u001b[1;32m   1441\u001b[0m           \u001b[0mproto_data\u001b[0m \u001b[0;34m=\u001b[0m \u001b[0mtf_session\u001b[0m\u001b[0;34m.\u001b[0m\u001b[0mTF_GetBuffer\u001b[0m\u001b[0;34m(\u001b[0m\u001b[0mrun_metadata_ptr\u001b[0m\u001b[0;34m)\u001b[0m\u001b[0;34m\u001b[0m\u001b[0;34m\u001b[0m\u001b[0m\n",
            "\u001b[0;31mKeyboardInterrupt\u001b[0m: "
          ]
        }
      ]
    },
    {
      "cell_type": "code",
      "metadata": {
        "id": "59P1brDhFBsd",
        "colab_type": "code",
        "colab": {}
      },
      "source": [
        "# Save result in to google drive\n",
        "from google.colab import drive\n",
        "drive.mount('/content/gdrive')\n",
        "\n",
        "with open('/content/gdrive/My Drive/file.txt', 'w') as f:\n",
        "    f.write('content')\n",
        "  \n",
        "# Download files for local usage\n",
        "from google.colab import files\n",
        "files.download(\"data/dm.ckpt.meta\") "
      ],
      "execution_count": 0,
      "outputs": []
    }
  ]
}